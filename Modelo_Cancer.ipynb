{
  "nbformat": 4,
  "nbformat_minor": 0,
  "metadata": {
    "colab": {
      "name": "Modelo_Cancer.ipynb",
      "provenance": [],
      "collapsed_sections": [],
      "authorship_tag": "ABX9TyMFw5ykZdtgmQ+ClJx1dQcC",
      "include_colab_link": true
    },
    "kernelspec": {
      "name": "python3",
      "display_name": "Python 3"
    },
    "accelerator": "GPU"
  },
  "cells": [
    {
      "cell_type": "markdown",
      "metadata": {
        "id": "view-in-github",
        "colab_type": "text"
      },
      "source": [
        "<a href=\"https://colab.research.google.com/github/DavidMartinez16/Skin-Cancer-CNN/blob/master/Modelo_Cancer.ipynb\" target=\"_parent\"><img src=\"https://colab.research.google.com/assets/colab-badge.svg\" alt=\"Open In Colab\"/></a>"
      ]
    },
    {
      "cell_type": "markdown",
      "metadata": {
        "id": "Q5Am4R7vdtSD",
        "colab_type": "text"
      },
      "source": [
        "\n",
        "**IMPORTAR LIBRERÍAS**"
      ]
    },
    {
      "cell_type": "code",
      "metadata": {
        "id": "YNo_FoElwC7N",
        "colab_type": "code",
        "colab": {}
      },
      "source": [
        "import sys\n",
        "import os\n",
        "from tensorflow.keras.preprocessing.image import ImageDataGenerator\n",
        "from tensorflow.keras import optimizers\n",
        "from tensorflow.keras.models import Sequential\n",
        "from tensorflow.keras.layers import Dropout, Flatten, Dense, Activation\n",
        "from tensorflow.keras.layers import Convolution2D, MaxPooling2D\n",
        "from tensorflow.keras.callbacks import ReduceLROnPlateau\n",
        "from sklearn.metrics import confusion_matrix\n",
        "from tensorflow.keras import backend as K\n",
        "from keras.applications.imagenet_utils import preprocess_input, decode_predictions\n",
        "import matplotlib.pyplot as plt\n",
        "import itertools\n",
        "import numpy as np"
      ],
      "execution_count": 7,
      "outputs": []
    },
    {
      "cell_type": "code",
      "metadata": {
        "id": "RYGAWj3rwJbH",
        "colab_type": "code",
        "colab": {
          "base_uri": "https://localhost:8080/",
          "height": 122
        },
        "outputId": "e61d3b6e-d961-420b-86f5-0804840d4efc"
      },
      "source": [
        "from google.colab import drive\n",
        "drive.mount('/content/drive')"
      ],
      "execution_count": 3,
      "outputs": [
        {
          "output_type": "stream",
          "text": [
            "Go to this URL in a browser: https://accounts.google.com/o/oauth2/auth?client_id=947318989803-6bn6qk8qdgf4n4g3pfee6491hc0brc4i.apps.googleusercontent.com&redirect_uri=urn%3aietf%3awg%3aoauth%3a2.0%3aoob&scope=email%20https%3a%2f%2fwww.googleapis.com%2fauth%2fdocs.test%20https%3a%2f%2fwww.googleapis.com%2fauth%2fdrive%20https%3a%2f%2fwww.googleapis.com%2fauth%2fdrive.photos.readonly%20https%3a%2f%2fwww.googleapis.com%2fauth%2fpeopleapi.readonly&response_type=code\n",
            "\n",
            "Enter your authorization code:\n",
            "··········\n",
            "Mounted at /content/drive\n"
          ],
          "name": "stdout"
        }
      ]
    },
    {
      "cell_type": "markdown",
      "metadata": {
        "id": "LMo_JfvQdy14",
        "colab_type": "text"
      },
      "source": [
        "**ACCEDER A LOS DIRECTORIOS**"
      ]
    },
    {
      "cell_type": "code",
      "metadata": {
        "id": "EMvwvlXRwMye",
        "colab_type": "code",
        "colab": {}
      },
      "source": [
        "K.clear_session()\n",
        "\n",
        "data_train = '/content/drive/My Drive/Skin Cancer/data/train'\n",
        "data_validation = '/content/drive/My Drive/Skin Cancer/data/test'"
      ],
      "execution_count": 4,
      "outputs": []
    },
    {
      "cell_type": "markdown",
      "metadata": {
        "id": "QvMQqHo3d92m",
        "colab_type": "text"
      },
      "source": [
        "**VARIABLES**"
      ]
    },
    {
      "cell_type": "code",
      "metadata": {
        "id": "hdyBr8-awhPu",
        "colab_type": "code",
        "colab": {}
      },
      "source": [
        "width_shape = 100\n",
        "height_shape = 100\n",
        "num_classes = 2\n",
        "epochs = 75\n",
        "batch_size = 32 \n",
        "# Tamaños de los filtros\n",
        "filtrosConv1 = 32\n",
        "filtrosConv2 = 64\n",
        "tamano_filtro1 = (3,3)\n",
        "tamano_filtro2 = (2,2)\n",
        "tamano_pool = (2,2)\n",
        "clases = 2\n",
        "lr = 0.0005"
      ],
      "execution_count": 16,
      "outputs": []
    },
    {
      "cell_type": "markdown",
      "metadata": {
        "id": "3krkGa7XeAHD",
        "colab_type": "text"
      },
      "source": [
        "**GENERADOR DE IMÁGENES**"
      ]
    },
    {
      "cell_type": "code",
      "metadata": {
        "id": "rRhUUnWDwm6Q",
        "colab_type": "code",
        "colab": {
          "base_uri": "https://localhost:8080/",
          "height": 51
        },
        "outputId": "46d85fe3-dcef-4d88-97aa-16ede9c3ad63"
      },
      "source": [
        "train_datagen = ImageDataGenerator(  \n",
        "    rotation_range=20,\n",
        "    zoom_range=0.2,\n",
        "    width_shift_range=0.1,\n",
        "    height_shift_range=0.1,\n",
        "    horizontal_flip=True,\n",
        "    vertical_flip=False,\n",
        "    preprocessing_function=preprocess_input)\n",
        "\n",
        "valid_datagen = ImageDataGenerator(    \n",
        "    rotation_range=20,\n",
        "    zoom_range=0.2,\n",
        "    width_shift_range=0.1,\n",
        "    height_shift_range=0.1,\n",
        "    horizontal_flip=True,\n",
        "    vertical_flip=False,\n",
        "    preprocessing_function=preprocess_input)\n",
        "\n",
        "train_generator = train_datagen.flow_from_directory(  \n",
        "    data_train,\n",
        "    target_size=(width_shape, height_shape),\n",
        "    batch_size=batch_size,\n",
        "    #save_to_dir='',\n",
        "    class_mode='categorical')\n",
        "\n",
        "validation_generator = valid_datagen.flow_from_directory(  \n",
        "    data_validation,\n",
        "    target_size=(width_shape, height_shape),\n",
        "    batch_size=batch_size,\n",
        "    #save_to_dir='',\n",
        "    class_mode='categorical')"
      ],
      "execution_count": 17,
      "outputs": [
        {
          "output_type": "stream",
          "text": [
            "Found 4084 images belonging to 2 classes.\n",
            "Found 724 images belonging to 2 classes.\n"
          ],
          "name": "stdout"
        }
      ]
    },
    {
      "cell_type": "markdown",
      "metadata": {
        "id": "4sLI25rxeEY0",
        "colab_type": "text"
      },
      "source": [
        "**CREAR LA RED NEURONAL**"
      ]
    },
    {
      "cell_type": "code",
      "metadata": {
        "id": "_Ic9gH_vwqa-",
        "colab_type": "code",
        "colab": {
          "base_uri": "https://localhost:8080/",
          "height": 1000
        },
        "outputId": "b35f0d65-4efe-4c61-f0a8-b9342ce80298"
      },
      "source": [
        "# Red Neuronal Convolucional\n",
        "cnn = Sequential()\n",
        "cnn.add(Convolution2D(filtrosConv2, tamano_filtro2, padding='same', input_shape=(altura, longitud,3), activation = 'relu'))\n",
        "cnn.add(MaxPooling2D(pool_size=tamano_pool))\n",
        "cnn.add(Convolution2D(filtrosConv2, tamano_filtro2, padding='same', activation = 'relu'))\n",
        "cnn.add(MaxPooling2D(pool_size=tamano_pool))\n",
        "cnn.add(Convolution2D(filtrosConv1, tamano_filtro1, padding='same', activation = 'relu'))\n",
        "cnn.add(MaxPooling2D(pool_size=tamano_pool))\n",
        "cnn.add(Convolution2D(filtrosConv1, tamano_filtro1, padding='same', activation = 'relu'))\n",
        "cnn.add(MaxPooling2D(pool_size=tamano_pool))\n",
        "cnn.add(Flatten()) # Añade 1 dimensión que contiene toda la informacion de la CNN\n",
        "cnn.add(Dense(256, activation = 'relu')) # Capa normal de la RNN\n",
        "cnn.add(Dropout(0.5)) # Apaga el 50 % de las neuronas, evita sobreajuste\n",
        "cnn.add(Dense(clases, activation = 'softmax'))\n",
        "cnn.compile(loss='categorical_crossentropy', optimizer=optimizers.Adam(lr=lr), metrics =['accuracy'])\n",
        "\n",
        "cnn.summary()\n",
        "history=cnn.fit(train_generator, steps_per_epoch=(4084/batch_size), epochs=75, validation_data = validation_generator, \n",
        "                 validation_steps = (724/batch_size))\n",
        "\n"
      ],
      "execution_count": 18,
      "outputs": [
        {
          "output_type": "stream",
          "text": [
            "Model: \"sequential_6\"\n",
            "_________________________________________________________________\n",
            "Layer (type)                 Output Shape              Param #   \n",
            "=================================================================\n",
            "conv2d_20 (Conv2D)           (None, 100, 100, 64)      832       \n",
            "_________________________________________________________________\n",
            "max_pooling2d_20 (MaxPooling (None, 50, 50, 64)        0         \n",
            "_________________________________________________________________\n",
            "conv2d_21 (Conv2D)           (None, 50, 50, 64)        16448     \n",
            "_________________________________________________________________\n",
            "max_pooling2d_21 (MaxPooling (None, 25, 25, 64)        0         \n",
            "_________________________________________________________________\n",
            "conv2d_22 (Conv2D)           (None, 25, 25, 32)        18464     \n",
            "_________________________________________________________________\n",
            "max_pooling2d_22 (MaxPooling (None, 12, 12, 32)        0         \n",
            "_________________________________________________________________\n",
            "conv2d_23 (Conv2D)           (None, 12, 12, 32)        9248      \n",
            "_________________________________________________________________\n",
            "max_pooling2d_23 (MaxPooling (None, 6, 6, 32)          0         \n",
            "_________________________________________________________________\n",
            "flatten_5 (Flatten)          (None, 1152)              0         \n",
            "_________________________________________________________________\n",
            "dense_10 (Dense)             (None, 256)               295168    \n",
            "_________________________________________________________________\n",
            "dropout_5 (Dropout)          (None, 256)               0         \n",
            "_________________________________________________________________\n",
            "dense_11 (Dense)             (None, 2)                 514       \n",
            "=================================================================\n",
            "Total params: 340,674\n",
            "Trainable params: 340,674\n",
            "Non-trainable params: 0\n",
            "_________________________________________________________________\n",
            "Epoch 1/75\n",
            "128/127 [==============================] - 2213s 17s/step - loss: 1.2023 - accuracy: 0.6604 - val_loss: 0.5193 - val_accuracy: 0.7141\n",
            "Epoch 2/75\n",
            "128/127 [==============================] - 48s 373ms/step - loss: 0.5370 - accuracy: 0.7238 - val_loss: 0.4701 - val_accuracy: 0.7680\n",
            "Epoch 3/75\n",
            "128/127 [==============================] - 47s 370ms/step - loss: 0.5091 - accuracy: 0.7414 - val_loss: 0.4946 - val_accuracy: 0.7182\n",
            "Epoch 4/75\n",
            "128/127 [==============================] - 47s 367ms/step - loss: 0.4880 - accuracy: 0.7564 - val_loss: 0.4412 - val_accuracy: 0.7569\n",
            "Epoch 5/75\n",
            "128/127 [==============================] - 47s 369ms/step - loss: 0.4779 - accuracy: 0.7627 - val_loss: 0.4485 - val_accuracy: 0.7652\n",
            "Epoch 6/75\n",
            "128/127 [==============================] - 47s 369ms/step - loss: 0.4650 - accuracy: 0.7730 - val_loss: 0.4282 - val_accuracy: 0.7652\n",
            "Epoch 7/75\n",
            "128/127 [==============================] - 47s 369ms/step - loss: 0.4595 - accuracy: 0.7711 - val_loss: 0.4302 - val_accuracy: 0.7762\n",
            "Epoch 8/75\n",
            "128/127 [==============================] - 48s 374ms/step - loss: 0.4473 - accuracy: 0.7784 - val_loss: 0.4954 - val_accuracy: 0.7362\n",
            "Epoch 9/75\n",
            "128/127 [==============================] - 47s 368ms/step - loss: 0.4598 - accuracy: 0.7679 - val_loss: 0.4793 - val_accuracy: 0.7390\n",
            "Epoch 10/75\n",
            "128/127 [==============================] - 47s 366ms/step - loss: 0.4596 - accuracy: 0.7782 - val_loss: 0.4263 - val_accuracy: 0.7776\n",
            "Epoch 11/75\n",
            "128/127 [==============================] - 47s 367ms/step - loss: 0.4328 - accuracy: 0.7880 - val_loss: 0.4330 - val_accuracy: 0.7776\n",
            "Epoch 12/75\n",
            "128/127 [==============================] - 47s 369ms/step - loss: 0.4361 - accuracy: 0.7875 - val_loss: 0.4614 - val_accuracy: 0.7514\n",
            "Epoch 13/75\n",
            "128/127 [==============================] - 47s 368ms/step - loss: 0.4373 - accuracy: 0.7828 - val_loss: 0.4796 - val_accuracy: 0.7390\n",
            "Epoch 14/75\n",
            "128/127 [==============================] - 47s 366ms/step - loss: 0.4353 - accuracy: 0.7867 - val_loss: 0.3950 - val_accuracy: 0.8108\n",
            "Epoch 15/75\n",
            "128/127 [==============================] - 48s 371ms/step - loss: 0.4214 - accuracy: 0.7951 - val_loss: 0.4143 - val_accuracy: 0.7776\n",
            "Epoch 16/75\n",
            "128/127 [==============================] - 47s 364ms/step - loss: 0.4137 - accuracy: 0.7973 - val_loss: 0.4224 - val_accuracy: 0.7901\n",
            "Epoch 17/75\n",
            "128/127 [==============================] - 47s 367ms/step - loss: 0.4136 - accuracy: 0.7973 - val_loss: 0.4257 - val_accuracy: 0.7873\n",
            "Epoch 18/75\n",
            "128/127 [==============================] - 47s 366ms/step - loss: 0.4095 - accuracy: 0.8026 - val_loss: 0.4089 - val_accuracy: 0.7928\n",
            "Epoch 19/75\n",
            "128/127 [==============================] - 47s 367ms/step - loss: 0.4070 - accuracy: 0.7965 - val_loss: 0.4212 - val_accuracy: 0.7970\n",
            "Epoch 20/75\n",
            "128/127 [==============================] - 47s 366ms/step - loss: 0.4054 - accuracy: 0.7977 - val_loss: 0.3867 - val_accuracy: 0.8122\n",
            "Epoch 21/75\n",
            "128/127 [==============================] - 47s 367ms/step - loss: 0.4009 - accuracy: 0.8041 - val_loss: 0.4149 - val_accuracy: 0.8039\n",
            "Epoch 22/75\n",
            "128/127 [==============================] - 47s 365ms/step - loss: 0.3899 - accuracy: 0.8166 - val_loss: 0.3886 - val_accuracy: 0.7956\n",
            "Epoch 23/75\n",
            "128/127 [==============================] - 46s 363ms/step - loss: 0.3931 - accuracy: 0.8112 - val_loss: 0.3906 - val_accuracy: 0.7970\n",
            "Epoch 24/75\n",
            "128/127 [==============================] - 47s 364ms/step - loss: 0.4021 - accuracy: 0.8110 - val_loss: 0.4096 - val_accuracy: 0.7831\n",
            "Epoch 25/75\n",
            "128/127 [==============================] - 47s 365ms/step - loss: 0.3892 - accuracy: 0.8161 - val_loss: 0.3947 - val_accuracy: 0.8108\n",
            "Epoch 26/75\n",
            "128/127 [==============================] - 46s 363ms/step - loss: 0.3911 - accuracy: 0.8088 - val_loss: 0.3747 - val_accuracy: 0.8122\n",
            "Epoch 27/75\n",
            "128/127 [==============================] - 46s 362ms/step - loss: 0.3896 - accuracy: 0.8129 - val_loss: 0.3935 - val_accuracy: 0.8039\n",
            "Epoch 28/75\n",
            "128/127 [==============================] - 47s 367ms/step - loss: 0.3831 - accuracy: 0.8159 - val_loss: 0.4139 - val_accuracy: 0.7914\n",
            "Epoch 29/75\n",
            "128/127 [==============================] - 47s 364ms/step - loss: 0.3747 - accuracy: 0.8210 - val_loss: 0.4326 - val_accuracy: 0.7583\n",
            "Epoch 30/75\n",
            "128/127 [==============================] - 46s 363ms/step - loss: 0.3761 - accuracy: 0.8198 - val_loss: 0.4171 - val_accuracy: 0.8011\n",
            "Epoch 31/75\n",
            "128/127 [==============================] - 47s 364ms/step - loss: 0.3771 - accuracy: 0.8183 - val_loss: 0.4018 - val_accuracy: 0.8066\n",
            "Epoch 32/75\n",
            "128/127 [==============================] - 47s 367ms/step - loss: 0.3747 - accuracy: 0.8198 - val_loss: 0.4007 - val_accuracy: 0.7997\n",
            "Epoch 33/75\n",
            "128/127 [==============================] - 47s 365ms/step - loss: 0.3656 - accuracy: 0.8249 - val_loss: 0.4241 - val_accuracy: 0.7901\n",
            "Epoch 34/75\n",
            "128/127 [==============================] - 47s 370ms/step - loss: 0.3773 - accuracy: 0.8112 - val_loss: 0.4228 - val_accuracy: 0.7983\n",
            "Epoch 35/75\n",
            "128/127 [==============================] - 47s 365ms/step - loss: 0.3657 - accuracy: 0.8252 - val_loss: 0.3940 - val_accuracy: 0.8163\n",
            "Epoch 36/75\n",
            "128/127 [==============================] - 47s 366ms/step - loss: 0.3658 - accuracy: 0.8247 - val_loss: 0.3881 - val_accuracy: 0.8066\n",
            "Epoch 37/75\n",
            "128/127 [==============================] - 47s 366ms/step - loss: 0.3660 - accuracy: 0.8254 - val_loss: 0.4087 - val_accuracy: 0.7997\n",
            "Epoch 38/75\n",
            "128/127 [==============================] - 47s 366ms/step - loss: 0.3644 - accuracy: 0.8242 - val_loss: 0.3769 - val_accuracy: 0.8163\n",
            "Epoch 39/75\n",
            "128/127 [==============================] - 47s 366ms/step - loss: 0.3510 - accuracy: 0.8320 - val_loss: 0.3612 - val_accuracy: 0.8135\n",
            "Epoch 40/75\n",
            "128/127 [==============================] - 47s 363ms/step - loss: 0.3505 - accuracy: 0.8291 - val_loss: 0.3900 - val_accuracy: 0.8122\n",
            "Epoch 41/75\n",
            "128/127 [==============================] - 47s 369ms/step - loss: 0.3522 - accuracy: 0.8308 - val_loss: 0.3844 - val_accuracy: 0.8122\n",
            "Epoch 42/75\n",
            "128/127 [==============================] - 47s 365ms/step - loss: 0.3570 - accuracy: 0.8303 - val_loss: 0.3761 - val_accuracy: 0.8218\n",
            "Epoch 43/75\n",
            "128/127 [==============================] - 47s 363ms/step - loss: 0.3459 - accuracy: 0.8379 - val_loss: 0.3897 - val_accuracy: 0.8039\n",
            "Epoch 44/75\n",
            "128/127 [==============================] - 47s 366ms/step - loss: 0.3433 - accuracy: 0.8362 - val_loss: 0.3738 - val_accuracy: 0.8204\n",
            "Epoch 45/75\n",
            "128/127 [==============================] - 47s 364ms/step - loss: 0.3455 - accuracy: 0.8399 - val_loss: 0.3752 - val_accuracy: 0.8163\n",
            "Epoch 46/75\n",
            "128/127 [==============================] - 47s 366ms/step - loss: 0.3484 - accuracy: 0.8330 - val_loss: 0.4130 - val_accuracy: 0.8163\n",
            "Epoch 47/75\n",
            "128/127 [==============================] - 47s 366ms/step - loss: 0.3302 - accuracy: 0.8531 - val_loss: 0.3773 - val_accuracy: 0.8204\n",
            "Epoch 48/75\n",
            "128/127 [==============================] - 47s 371ms/step - loss: 0.3385 - accuracy: 0.8450 - val_loss: 0.4057 - val_accuracy: 0.8108\n",
            "Epoch 49/75\n",
            "128/127 [==============================] - 47s 370ms/step - loss: 0.3314 - accuracy: 0.8479 - val_loss: 0.4020 - val_accuracy: 0.8122\n",
            "Epoch 50/75\n",
            "128/127 [==============================] - 47s 366ms/step - loss: 0.3492 - accuracy: 0.8330 - val_loss: 0.3684 - val_accuracy: 0.8232\n",
            "Epoch 51/75\n",
            "128/127 [==============================] - 48s 371ms/step - loss: 0.3298 - accuracy: 0.8475 - val_loss: 0.4121 - val_accuracy: 0.8163\n",
            "Epoch 52/75\n",
            "128/127 [==============================] - 47s 367ms/step - loss: 0.3343 - accuracy: 0.8452 - val_loss: 0.3824 - val_accuracy: 0.8356\n",
            "Epoch 53/75\n",
            "128/127 [==============================] - 47s 368ms/step - loss: 0.3373 - accuracy: 0.8482 - val_loss: 0.3998 - val_accuracy: 0.8108\n",
            "Epoch 54/75\n",
            "128/127 [==============================] - 48s 373ms/step - loss: 0.3253 - accuracy: 0.8548 - val_loss: 0.3677 - val_accuracy: 0.8218\n",
            "Epoch 55/75\n",
            "128/127 [==============================] - 47s 367ms/step - loss: 0.3231 - accuracy: 0.8462 - val_loss: 0.3983 - val_accuracy: 0.8273\n",
            "Epoch 56/75\n",
            "128/127 [==============================] - 47s 367ms/step - loss: 0.3308 - accuracy: 0.8489 - val_loss: 0.3696 - val_accuracy: 0.8204\n",
            "Epoch 57/75\n",
            "128/127 [==============================] - 47s 368ms/step - loss: 0.3237 - accuracy: 0.8528 - val_loss: 0.4044 - val_accuracy: 0.8260\n",
            "Epoch 58/75\n",
            "128/127 [==============================] - 47s 367ms/step - loss: 0.3273 - accuracy: 0.8524 - val_loss: 0.3889 - val_accuracy: 0.8232\n",
            "Epoch 59/75\n",
            "128/127 [==============================] - 47s 367ms/step - loss: 0.3198 - accuracy: 0.8482 - val_loss: 0.3786 - val_accuracy: 0.8260\n",
            "Epoch 60/75\n",
            "128/127 [==============================] - 47s 367ms/step - loss: 0.3126 - accuracy: 0.8519 - val_loss: 0.4036 - val_accuracy: 0.8177\n",
            "Epoch 61/75\n",
            "128/127 [==============================] - 48s 372ms/step - loss: 0.3183 - accuracy: 0.8519 - val_loss: 0.3835 - val_accuracy: 0.8246\n",
            "Epoch 62/75\n",
            "128/127 [==============================] - 47s 365ms/step - loss: 0.3195 - accuracy: 0.8504 - val_loss: 0.3988 - val_accuracy: 0.8287\n",
            "Epoch 63/75\n",
            "128/127 [==============================] - 47s 365ms/step - loss: 0.3178 - accuracy: 0.8543 - val_loss: 0.4126 - val_accuracy: 0.8094\n",
            "Epoch 64/75\n",
            "128/127 [==============================] - 47s 367ms/step - loss: 0.3176 - accuracy: 0.8597 - val_loss: 0.4562 - val_accuracy: 0.8149\n",
            "Epoch 65/75\n",
            "128/127 [==============================] - 47s 364ms/step - loss: 0.3124 - accuracy: 0.8575 - val_loss: 0.4080 - val_accuracy: 0.8232\n",
            "Epoch 66/75\n",
            "128/127 [==============================] - 47s 367ms/step - loss: 0.3045 - accuracy: 0.8636 - val_loss: 0.4120 - val_accuracy: 0.8135\n",
            "Epoch 67/75\n",
            "128/127 [==============================] - 47s 369ms/step - loss: 0.3036 - accuracy: 0.8572 - val_loss: 0.4202 - val_accuracy: 0.8218\n",
            "Epoch 68/75\n",
            "128/127 [==============================] - 47s 366ms/step - loss: 0.3167 - accuracy: 0.8570 - val_loss: 0.4289 - val_accuracy: 0.8025\n",
            "Epoch 69/75\n",
            "128/127 [==============================] - 47s 365ms/step - loss: 0.3103 - accuracy: 0.8563 - val_loss: 0.3811 - val_accuracy: 0.8412\n",
            "Epoch 70/75\n",
            "128/127 [==============================] - 47s 369ms/step - loss: 0.3056 - accuracy: 0.8570 - val_loss: 0.3906 - val_accuracy: 0.8301\n",
            "Epoch 71/75\n",
            "128/127 [==============================] - 48s 377ms/step - loss: 0.3055 - accuracy: 0.8577 - val_loss: 0.3793 - val_accuracy: 0.8384\n",
            "Epoch 72/75\n",
            "128/127 [==============================] - 47s 367ms/step - loss: 0.3060 - accuracy: 0.8563 - val_loss: 0.4257 - val_accuracy: 0.8080\n",
            "Epoch 73/75\n",
            "128/127 [==============================] - 47s 369ms/step - loss: 0.2976 - accuracy: 0.8609 - val_loss: 0.3928 - val_accuracy: 0.8343\n",
            "Epoch 74/75\n",
            "128/127 [==============================] - 48s 372ms/step - loss: 0.2872 - accuracy: 0.8641 - val_loss: 0.3972 - val_accuracy: 0.8315\n",
            "Epoch 75/75\n",
            "128/127 [==============================] - 47s 369ms/step - loss: 0.2927 - accuracy: 0.8702 - val_loss: 0.3725 - val_accuracy: 0.8260\n"
          ],
          "name": "stdout"
        }
      ]
    },
    {
      "cell_type": "markdown",
      "metadata": {
        "id": "_AOsQwrleJvo",
        "colab_type": "text"
      },
      "source": [
        "**SALVAR EL MODELO**"
      ]
    },
    {
      "cell_type": "code",
      "metadata": {
        "id": "kiWc_k59xUjI",
        "colab_type": "code",
        "colab": {}
      },
      "source": [
        "cnn.save(\"model_final.h5\")"
      ],
      "execution_count": 19,
      "outputs": []
    },
    {
      "cell_type": "code",
      "metadata": {
        "id": "K9qEek71KqLV",
        "colab_type": "code",
        "colab": {}
      },
      "source": [
        "cnn.save_weights('pesos_final.h5')"
      ],
      "execution_count": 20,
      "outputs": []
    },
    {
      "cell_type": "markdown",
      "metadata": {
        "id": "mLpzgtDueNSU",
        "colab_type": "text"
      },
      "source": [
        "**FUNCIONES PARA GRAFICAR EL ENTRENAMIENTO DE LA RED**"
      ]
    },
    {
      "cell_type": "code",
      "metadata": {
        "id": "zYuMpiBDKySf",
        "colab_type": "code",
        "colab": {}
      },
      "source": [
        "#Plot\n",
        "\n",
        "def plotTraining(hist, epochs, typeData):\n",
        "    \n",
        "    if typeData==\"loss\":\n",
        "        plt.figure(1,figsize=(10,5))\n",
        "        yc=hist.history['loss']\n",
        "        xc=range(epochs)\n",
        "        plt.ylabel('Loss', fontsize=24)\n",
        "        plt.plot(xc,yc,'-r',label='Loss Training')\n",
        "    if typeData==\"accuracy\":\n",
        "        plt.figure(2,figsize=(10,5))\n",
        "        yc=hist.history['accuracy']\n",
        "        for i in range(0, len(yc)):\n",
        "            yc[i]=100*yc[i]\n",
        "        xc=range(epochs)\n",
        "        plt.ylabel('Accuracy (%)', fontsize=24)\n",
        "        plt.plot(xc,yc,'-r',label='Accuracy Training')\n",
        "    if typeData==\"val_loss\":\n",
        "        plt.figure(1,figsize=(10,5))\n",
        "        yc=hist.history['val_loss']\n",
        "        xc=range(epochs)\n",
        "        plt.ylabel('Loss', fontsize=24)\n",
        "        plt.plot(xc,yc,'--b',label='Loss Validate')\n",
        "    if typeData==\"val_accuracy\":\n",
        "        plt.figure(2,figsize=(10,5))\n",
        "        yc=hist.history['val_accuracy']\n",
        "        for i in range(0, len(yc)):\n",
        "            yc[i]=100*yc[i]\n",
        "        xc=range(epochs)\n",
        "        plt.ylabel('Accuracy (%)', fontsize=24)\n",
        "        plt.plot(xc,yc,'--b',label='Training Validate')\n",
        "        \n",
        "\n",
        "    plt.rc('xtick',labelsize=24)\n",
        "    plt.rc('ytick',labelsize=24)\n",
        "    plt.rc('legend', fontsize=18) \n",
        "    plt.legend()\n",
        "    plt.xlabel('Number of Epochs',fontsize=24)\n",
        "    plt.grid(True)\n"
      ],
      "execution_count": 21,
      "outputs": []
    },
    {
      "cell_type": "markdown",
      "metadata": {
        "id": "GMEaZjB1eR21",
        "colab_type": "text"
      },
      "source": [
        "**GRAFICAR**"
      ]
    },
    {
      "cell_type": "code",
      "metadata": {
        "id": "oMptk_nQK4Bf",
        "colab_type": "code",
        "colab": {
          "base_uri": "https://localhost:8080/",
          "height": 693
        },
        "outputId": "daa46181-85f4-4f8c-9171-9033d9b3db42"
      },
      "source": [
        "# Plot history\n",
        "\n",
        "plotTraining(history,75,\"loss\")\n",
        "plotTraining(history,75,\"accuracy\")\n",
        "plotTraining(history,75,\"val_loss\")\n",
        "plotTraining(history,75,\"val_accuracy\")"
      ],
      "execution_count": 23,
      "outputs": [
        {
          "output_type": "display_data",
          "data": {
            "image/png": "[encoded data removed]",
            "text/plain": [
              "<Figure size 720x360 with 1 Axes>"
            ]
          },
          "metadata": {
            "tags": [],
            "needs_background": "light"
          }
        },
        {
          "output_type": "display_data",
          "data": {
            "image/png": "[encoded data removed]",
            "text/plain": [
              "<Figure size 720x360 with 1 Axes>"
            ]
          },
          "metadata": {
            "tags": [],
            "needs_background": "light"
          }
        }
      ]
    },
    {
      "cell_type": "code",
      "metadata": {
        "id": "-vjeCwqxLAF4",
        "colab_type": "code",
        "colab": {}
      },
      "source": [
        "from sklearn.metrics import confusion_matrix, f1_score, roc_curve, precision_score, recall_score, accuracy_score, roc_auc_score\n",
        "from sklearn import metrics\n",
        "from mlxtend.plotting import plot_confusion_matrix\n",
        "from keras.models import load_model\n",
        "import numpy as np\n",
        "import matplotlib.pyplot as plt\n",
        "%matplotlib inline\n",
        "\n",
        "\n",
        "names = ['BENIGN','MALIGNANT']"
      ],
      "execution_count": 44,
      "outputs": []
    },
    {
      "cell_type": "markdown",
      "metadata": {
        "id": "I-ikhOhCeU1b",
        "colab_type": "text"
      },
      "source": [
        "**PREDECIR**"
      ]
    },
    {
      "cell_type": "code",
      "metadata": {
        "id": "lG843tskLL2a",
        "colab_type": "code",
        "colab": {
          "base_uri": "https://localhost:8080/",
          "height": 224
        },
        "outputId": "95207832-2b68-4d56-bd47-a54e4bcd9b27"
      },
      "source": [
        "test_data_dir ='/content/drive/My Drive/Skin Cancer/data/prueba'\n",
        "\n",
        "test_datagen = ImageDataGenerator()\n",
        "\n",
        "test_generator = test_datagen.flow_from_directory(\n",
        "    test_data_dir,\n",
        "    target_size=(width_shape, height_shape), \n",
        "    batch_size = batch_size,\n",
        "    class_mode='categorical', \n",
        "    shuffle=False)\n",
        "\n",
        "custom_Model= load_model(\"model_final.h5\")\n",
        "\n",
        "predictions = custom_Model.predict_generator(generator=test_generator)\n",
        "\n",
        "y_pred = np.argmax(predictions, axis=1)\n",
        "y_real = test_generator.classes\n",
        "\n",
        "\n",
        "matc=confusion_matrix(y_real, y_pred)\n",
        "\n",
        "\n",
        "print(metrics.classification_report(y_real,y_pred, digits = 4))"
      ],
      "execution_count": 45,
      "outputs": [
        {
          "output_type": "stream",
          "text": [
            "Found 20 images belonging to 2 classes.\n",
            "WARNING:tensorflow:7 out of the last 10 calls to <function Model.make_predict_function.<locals>.predict_function at 0x7f8b3323d400> triggered tf.function retracing. Tracing is expensive and the excessive number of tracings could be due to (1) creating @tf.function repeatedly in a loop, (2) passing tensors with different shapes, (3) passing Python objects instead of tensors. For (1), please define your @tf.function outside of the loop. For (2), @tf.function has experimental_relax_shapes=True option that relaxes argument shapes that can avoid unnecessary retracing. For (3), please refer to https://www.tensorflow.org/tutorials/customization/performance#python_or_tensor_args and https://www.tensorflow.org/api_docs/python/tf/function for  more details.\n",
            "              precision    recall  f1-score   support\n",
            "\n",
            "           0     0.5556    1.0000    0.7143        10\n",
            "           1     1.0000    0.2000    0.3333        10\n",
            "\n",
            "    accuracy                         0.6000        20\n",
            "   macro avg     0.7778    0.6000    0.5238        20\n",
            "weighted avg     0.7778    0.6000    0.5238        20\n",
            "\n"
          ],
          "name": "stdout"
        }
      ]
    },
    {
      "cell_type": "markdown",
      "metadata": {
        "id": "gTLBZNFceZN2",
        "colab_type": "text"
      },
      "source": [
        "**MATRIZ DE CONFUSIÓN**"
      ]
    },
    {
      "cell_type": "code",
      "metadata": {
        "id": "TFrlgFuQLUQU",
        "colab_type": "code",
        "colab": {
          "base_uri": "https://localhost:8080/",
          "height": 51
        },
        "outputId": "c5c97980-fff9-4908-a18a-67cd2343ac01"
      },
      "source": [
        "matc"
      ],
      "execution_count": 43,
      "outputs": [
        {
          "output_type": "execute_result",
          "data": {
            "text/plain": [
              "array([[10,  0],\n",
              "       [ 8,  2]])"
            ]
          },
          "metadata": {
            "tags": []
          },
          "execution_count": 43
        }
      ]
    }
  ]
}