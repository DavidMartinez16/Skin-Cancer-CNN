{
  "nbformat": 4,
  "nbformat_minor": 0,
  "metadata": {
    "colab": {
      "name": "CNN_Skin.ipynb",
      "provenance": [],
      "collapsed_sections": [],
      "authorship_tag": "ABX9TyNbm0ILwBU7GnNDO9LLE2Sr",
      "include_colab_link": true
    },
    "kernelspec": {
      "name": "python3",
      "display_name": "Python 3"
    },
    "accelerator": "GPU"
  },
  "cells": [
    {
      "cell_type": "markdown",
      "metadata": {
        "id": "view-in-github",
        "colab_type": "text"
      },
      "source": [
        "<a href=\"https://colab.research.google.com/github/DavidMartinez16/Skin-Cancer-CNN/blob/master/CNN_Skin.ipynb\" target=\"_parent\"><img src=\"https://colab.research.google.com/assets/colab-badge.svg\" alt=\"Open In Colab\"/></a>"
      ]
    },
    {
      "cell_type": "markdown",
      "metadata": {
        "id": "FLoYAJDefl1M",
        "colab_type": "text"
      },
      "source": [
        "**Import libraries**\n"
      ]
    },
    {
      "cell_type": "code",
      "metadata": {
        "id": "aDf6viJGl73p",
        "colab_type": "code",
        "colab": {}
      },
      "source": [
        "import sys\n",
        "import os\n",
        "from tensorflow.keras.preprocessing.image import ImageDataGenerator\n",
        "from tensorflow.keras import optimizers\n",
        "from tensorflow.keras.models import Sequential\n",
        "from tensorflow.keras.layers import Dropout, Flatten, Dense, Activation\n",
        "from tensorflow.keras.layers import Convolution2D, MaxPooling2D\n",
        "from tensorflow.keras.callbacks import ReduceLROnPlateau\n",
        "from sklearn.metrics import confusion_matrix\n",
        "from tensorflow.keras import backend as K\n",
        "import matplotlib.pyplot as plt\n",
        "import itertools\n",
        "import numpy as np"
      ],
      "execution_count": null,
      "outputs": []
    },
    {
      "cell_type": "code",
      "metadata": {
        "id": "69nyDFgEl--u",
        "colab_type": "code",
        "colab": {
          "base_uri": "https://localhost:8080/",
          "height": 122
        },
        "outputId": "1732babe-b018-4b7a-8175-f4d81acb474a"
      },
      "source": [
        "from google.colab import drive\n",
        "drive.mount('/content/drive')"
      ],
      "execution_count": null,
      "outputs": [
        {
          "output_type": "stream",
          "text": [
            "Go to this URL in a browser: https://accounts.google.com/o/oauth2/auth?client_id=947318989803-6bn6qk8qdgf4n4g3pfee6491hc0brc4i.apps.googleusercontent.com&redirect_uri=urn%3aietf%3awg%3aoauth%3a2.0%3aoob&scope=email%20https%3a%2f%2fwww.googleapis.com%2fauth%2fdocs.test%20https%3a%2f%2fwww.googleapis.com%2fauth%2fdrive%20https%3a%2f%2fwww.googleapis.com%2fauth%2fdrive.photos.readonly%20https%3a%2f%2fwww.googleapis.com%2fauth%2fpeopleapi.readonly&response_type=code\n",
            "\n",
            "Enter your authorization code:\n",
            "··········\n",
            "Mounted at /content/drive\n"
          ],
          "name": "stdout"
        }
      ]
    },
    {
      "cell_type": "markdown",
      "metadata": {
        "id": "IbIi2130fru1",
        "colab_type": "text"
      },
      "source": [
        "**Save the path of the images**"
      ]
    },
    {
      "cell_type": "code",
      "metadata": {
        "id": "h5u3aCI6nDg9",
        "colab_type": "code",
        "colab": {}
      },
      "source": [
        "K.clear_session()\n",
        "\n",
        "data_train = '/content/drive/My Drive/Skin Cancer/data/train'\n",
        "data_validation = '/content/drive/My Drive/Skin Cancer/data/test'"
      ],
      "execution_count": null,
      "outputs": []
    },
    {
      "cell_type": "markdown",
      "metadata": {
        "id": "RC9auBjZfysO",
        "colab_type": "text"
      },
      "source": [
        "**Define some variables**"
      ]
    },
    {
      "cell_type": "code",
      "metadata": {
        "id": "LJTbJ-8onM8-",
        "colab_type": "code",
        "colab": {}
      },
      "source": [
        "epocas = 60\n",
        "altura, longitud = 100, 100 # Tamaño a procesar las imágenes\n",
        "batch_size = 32 # Número de imágenes a mandar en cada época\n",
        "pasos_epoca = 127\n",
        "pasos_validacion = 25\n",
        "# Tamaños de los filtros\n",
        "filtrosConv1 = 32\n",
        "filtrosConv2 = 64\n",
        "tamano_filtro1 = (3,3)\n",
        "tamano_filtro2 = (2,2)\n",
        "tamano_pool = (2,2)\n",
        "clases = 2\n",
        "lr = 0.0005 "
      ],
      "execution_count": null,
      "outputs": []
    },
    {
      "cell_type": "markdown",
      "metadata": {
        "id": "lWjeERmjf3yn",
        "colab_type": "text"
      },
      "source": [
        "Generate sevaral images with different features"
      ]
    },
    {
      "cell_type": "code",
      "metadata": {
        "id": "3z_35DgjnYV7",
        "colab_type": "code",
        "colab": {}
      },
      "source": [
        "entrenamiento_datagen = ImageDataGenerator(\n",
        "    rescale=1./255, # Reescalar valores de pixeles de 0 a 1\n",
        "    shear_range = 0.3, # Inclina las imágenes\n",
        "    zoom_range = 0.3, # Añade zoom a las imágenes\n",
        "    horizontal_flip = True # Invierte las imágenes, direccionalidad\n",
        ")\n",
        "\n",
        "validacion_datagen = ImageDataGenerator(\n",
        "    rescale=1./255,\n",
        ")"
      ],
      "execution_count": null,
      "outputs": []
    },
    {
      "cell_type": "markdown",
      "metadata": {
        "id": "dNADhiX6gDoE",
        "colab_type": "text"
      },
      "source": [
        "**Access to the path and transform each image in the folder**"
      ]
    },
    {
      "cell_type": "code",
      "metadata": {
        "id": "7ipnxxSnnbHe",
        "colab_type": "code",
        "colab": {
          "base_uri": "https://localhost:8080/",
          "height": 51
        },
        "outputId": "462e7fa9-a236-43c2-bdbe-d41502f8e4f9"
      },
      "source": [
        "# Entra al directorio de training\n",
        "imagen_train = entrenamiento_datagen.flow_from_directory(\n",
        "    data_train,\n",
        "    target_size= (altura, longitud),\n",
        "    batch_size = batch_size,\n",
        "    class_mode = 'categorical'\n",
        ")\n",
        "# Entra al directorio de validacion\n",
        "imagen_validation = validacion_datagen.flow_from_directory(\n",
        "    data_validation,\n",
        "    target_size= (altura, longitud),\n",
        "    batch_size = batch_size,\n",
        "    class_mode = 'categorical'\n",
        ")"
      ],
      "execution_count": null,
      "outputs": [
        {
          "output_type": "stream",
          "text": [
            "Found 4084 images belonging to 2 classes.\n",
            "Found 724 images belonging to 2 classes.\n"
          ],
          "name": "stdout"
        }
      ]
    },
    {
      "cell_type": "markdown",
      "metadata": {
        "id": "hbtSYDtugNxe",
        "colab_type": "text"
      },
      "source": [
        "**Create the Convolutional Neural Network**"
      ]
    },
    {
      "cell_type": "code",
      "metadata": {
        "id": "005W8VSCndbZ",
        "colab_type": "code",
        "colab": {}
      },
      "source": [
        "# Red Neuronal Convolucional\n",
        "cnn = Sequential()\n",
        "cnn.add(Convolution2D(filtrosConv2, tamano_filtro2, padding='same', input_shape=(altura, longitud,3), activation = 'relu'))\n",
        "cnn.add(MaxPooling2D(pool_size=tamano_pool))\n",
        "cnn.add(Convolution2D(filtrosConv2, tamano_filtro2, padding='same', activation = 'relu'))\n",
        "cnn.add(MaxPooling2D(pool_size=tamano_pool))\n",
        "cnn.add(Convolution2D(filtrosConv1, tamano_filtro1, padding='same', activation = 'relu'))\n",
        "cnn.add(MaxPooling2D(pool_size=tamano_pool))\n",
        "cnn.add(Convolution2D(filtrosConv1, tamano_filtro1, padding='same', activation = 'relu'))\n",
        "cnn.add(MaxPooling2D(pool_size=tamano_pool))\n",
        "cnn.add(Flatten()) # Añade 1 dimensión que contiene toda la informacion de la CNN\n",
        "cnn.add(Dense(256, activation = 'relu')) # Capa normal de la RNN\n",
        "cnn.add(Dropout(0.5)) # Apaga el 50 % de las neuronas, evita sobreajuste\n",
        "cnn.add(Dense(clases, activation = 'softmax'))\n",
        "cnn.compile(loss='categorical_crossentropy', optimizer=optimizers.Adam(lr=lr), metrics =['accuracy'])"
      ],
      "execution_count": null,
      "outputs": []
    },
    {
      "cell_type": "markdown",
      "metadata": {
        "id": "h3S2EjqygTT_",
        "colab_type": "text"
      },
      "source": [
        "**Architechture of the Neural Network**"
      ]
    },
    {
      "cell_type": "code",
      "metadata": {
        "id": "ZK1cBFoHn0Ik",
        "colab_type": "code",
        "colab": {
          "base_uri": "https://localhost:8080/",
          "height": 561
        },
        "outputId": "02b06bcf-b379-48bd-fa92-9bb84e652dd7"
      },
      "source": [
        "cnn.summary()"
      ],
      "execution_count": null,
      "outputs": [
        {
          "output_type": "stream",
          "text": [
            "Model: \"sequential_1\"\n",
            "_________________________________________________________________\n",
            "Layer (type)                 Output Shape              Param #   \n",
            "=================================================================\n",
            "conv2d_4 (Conv2D)            (None, 100, 100, 64)      832       \n",
            "_________________________________________________________________\n",
            "max_pooling2d_4 (MaxPooling2 (None, 50, 50, 64)        0         \n",
            "_________________________________________________________________\n",
            "conv2d_5 (Conv2D)            (None, 50, 50, 64)        16448     \n",
            "_________________________________________________________________\n",
            "max_pooling2d_5 (MaxPooling2 (None, 25, 25, 64)        0         \n",
            "_________________________________________________________________\n",
            "conv2d_6 (Conv2D)            (None, 25, 25, 32)        18464     \n",
            "_________________________________________________________________\n",
            "max_pooling2d_6 (MaxPooling2 (None, 12, 12, 32)        0         \n",
            "_________________________________________________________________\n",
            "conv2d_7 (Conv2D)            (None, 12, 12, 32)        9248      \n",
            "_________________________________________________________________\n",
            "max_pooling2d_7 (MaxPooling2 (None, 6, 6, 32)          0         \n",
            "_________________________________________________________________\n",
            "flatten_1 (Flatten)          (None, 1152)              0         \n",
            "_________________________________________________________________\n",
            "dense_2 (Dense)              (None, 256)               295168    \n",
            "_________________________________________________________________\n",
            "dropout_1 (Dropout)          (None, 256)               0         \n",
            "_________________________________________________________________\n",
            "dense_3 (Dense)              (None, 2)                 514       \n",
            "=================================================================\n",
            "Total params: 340,674\n",
            "Trainable params: 340,674\n",
            "Non-trainable params: 0\n",
            "_________________________________________________________________\n"
          ],
          "name": "stdout"
        }
      ]
    },
    {
      "cell_type": "markdown",
      "metadata": {
        "id": "BjbvizJogffk",
        "colab_type": "text"
      },
      "source": [
        "**Fit**"
      ]
    },
    {
      "cell_type": "code",
      "metadata": {
        "id": "WBwqljtVn24O",
        "colab_type": "code",
        "colab": {
          "base_uri": "https://localhost:8080/",
          "height": 1000
        },
        "outputId": "847cb021-1394-490a-dd33-6c8e4e72f01f"
      },
      "source": [
        "history=cnn.fit(imagen_train, steps_per_epoch=pasos_epoca, epochs=epocas, validation_data = imagen_validation, \n",
        "                 validation_steps = (724/batch_size))"
      ],
      "execution_count": null,
      "outputs": [
        {
          "output_type": "stream",
          "text": [
            "Epoch 1/60\n",
            "127/127 [==============================] - 1174s 9s/step - loss: 0.6157 - accuracy: 0.6614 - val_loss: 0.5237 - val_accuracy: 0.7210\n",
            "Epoch 2/60\n",
            "127/127 [==============================] - 47s 371ms/step - loss: 0.5286 - accuracy: 0.7394 - val_loss: 0.4948 - val_accuracy: 0.7238\n",
            "Epoch 3/60\n",
            "127/127 [==============================] - 47s 366ms/step - loss: 0.5053 - accuracy: 0.7406 - val_loss: 0.4693 - val_accuracy: 0.7320\n",
            "Epoch 4/60\n",
            "127/127 [==============================] - 47s 372ms/step - loss: 0.4732 - accuracy: 0.7591 - val_loss: 0.4770 - val_accuracy: 0.7293\n",
            "Epoch 5/60\n",
            "127/127 [==============================] - 47s 368ms/step - loss: 0.4584 - accuracy: 0.7641 - val_loss: 0.4822 - val_accuracy: 0.7210\n",
            "Epoch 6/60\n",
            "127/127 [==============================] - 47s 370ms/step - loss: 0.4514 - accuracy: 0.7754 - val_loss: 0.4810 - val_accuracy: 0.7320\n",
            "Epoch 7/60\n",
            "127/127 [==============================] - 47s 367ms/step - loss: 0.4462 - accuracy: 0.7732 - val_loss: 0.4239 - val_accuracy: 0.7693\n",
            "Epoch 8/60\n",
            "127/127 [==============================] - 46s 366ms/step - loss: 0.4332 - accuracy: 0.7855 - val_loss: 0.4238 - val_accuracy: 0.7735\n",
            "Epoch 9/60\n",
            "127/127 [==============================] - 47s 367ms/step - loss: 0.4345 - accuracy: 0.7895 - val_loss: 0.4424 - val_accuracy: 0.7735\n",
            "Epoch 10/60\n",
            "127/127 [==============================] - 46s 365ms/step - loss: 0.4367 - accuracy: 0.7875 - val_loss: 0.4285 - val_accuracy: 0.7597\n",
            "Epoch 11/60\n",
            "127/127 [==============================] - 48s 375ms/step - loss: 0.4289 - accuracy: 0.7833 - val_loss: 0.4432 - val_accuracy: 0.7541\n",
            "Epoch 12/60\n",
            "127/127 [==============================] - 47s 372ms/step - loss: 0.4172 - accuracy: 0.7976 - val_loss: 0.4279 - val_accuracy: 0.7776\n",
            "Epoch 13/60\n",
            "127/127 [==============================] - 47s 368ms/step - loss: 0.4028 - accuracy: 0.8075 - val_loss: 0.4130 - val_accuracy: 0.7928\n",
            "Epoch 14/60\n",
            "127/127 [==============================] - 47s 369ms/step - loss: 0.4035 - accuracy: 0.8050 - val_loss: 0.4727 - val_accuracy: 0.7652\n",
            "Epoch 15/60\n",
            "127/127 [==============================] - 47s 368ms/step - loss: 0.3947 - accuracy: 0.8045 - val_loss: 0.4235 - val_accuracy: 0.7776\n",
            "Epoch 16/60\n",
            "127/127 [==============================] - 47s 374ms/step - loss: 0.3911 - accuracy: 0.8149 - val_loss: 0.4375 - val_accuracy: 0.7914\n",
            "Epoch 17/60\n",
            "127/127 [==============================] - 48s 379ms/step - loss: 0.3913 - accuracy: 0.8110 - val_loss: 0.4171 - val_accuracy: 0.8122\n",
            "Epoch 18/60\n",
            "127/127 [==============================] - 48s 376ms/step - loss: 0.3970 - accuracy: 0.8092 - val_loss: 0.4181 - val_accuracy: 0.8094\n",
            "Epoch 19/60\n",
            "127/127 [==============================] - 48s 379ms/step - loss: 0.3860 - accuracy: 0.8208 - val_loss: 0.4449 - val_accuracy: 0.7804\n",
            "Epoch 20/60\n",
            "127/127 [==============================] - 48s 377ms/step - loss: 0.3812 - accuracy: 0.8164 - val_loss: 0.4005 - val_accuracy: 0.8025\n",
            "Epoch 21/60\n",
            "127/127 [==============================] - 47s 373ms/step - loss: 0.3696 - accuracy: 0.8228 - val_loss: 0.4156 - val_accuracy: 0.8039\n",
            "Epoch 22/60\n",
            "127/127 [==============================] - 47s 374ms/step - loss: 0.3729 - accuracy: 0.8213 - val_loss: 0.4498 - val_accuracy: 0.7831\n",
            "Epoch 23/60\n",
            "127/127 [==============================] - 48s 375ms/step - loss: 0.3703 - accuracy: 0.8282 - val_loss: 0.3820 - val_accuracy: 0.8246\n",
            "Epoch 24/60\n",
            "127/127 [==============================] - 48s 378ms/step - loss: 0.3628 - accuracy: 0.8319 - val_loss: 0.3934 - val_accuracy: 0.8149\n",
            "Epoch 25/60\n",
            "127/127 [==============================] - 47s 371ms/step - loss: 0.3722 - accuracy: 0.8260 - val_loss: 0.3958 - val_accuracy: 0.8011\n",
            "Epoch 26/60\n",
            "127/127 [==============================] - 48s 376ms/step - loss: 0.3557 - accuracy: 0.8342 - val_loss: 0.3902 - val_accuracy: 0.8204\n",
            "Epoch 27/60\n",
            "127/127 [==============================] - 48s 380ms/step - loss: 0.3502 - accuracy: 0.8356 - val_loss: 0.4272 - val_accuracy: 0.7997\n",
            "Epoch 28/60\n",
            "127/127 [==============================] - 48s 376ms/step - loss: 0.3558 - accuracy: 0.8359 - val_loss: 0.4005 - val_accuracy: 0.8122\n",
            "Epoch 29/60\n",
            "127/127 [==============================] - 48s 381ms/step - loss: 0.3502 - accuracy: 0.8322 - val_loss: 0.3730 - val_accuracy: 0.8412\n",
            "Epoch 30/60\n",
            "127/127 [==============================] - 48s 380ms/step - loss: 0.3378 - accuracy: 0.8440 - val_loss: 0.3858 - val_accuracy: 0.8315\n",
            "Epoch 31/60\n",
            "127/127 [==============================] - 48s 374ms/step - loss: 0.3436 - accuracy: 0.8408 - val_loss: 0.4172 - val_accuracy: 0.8204\n",
            "Epoch 32/60\n",
            "127/127 [==============================] - 47s 370ms/step - loss: 0.3342 - accuracy: 0.8443 - val_loss: 0.4095 - val_accuracy: 0.8122\n",
            "Epoch 33/60\n",
            "127/127 [==============================] - 47s 373ms/step - loss: 0.3387 - accuracy: 0.8421 - val_loss: 0.4248 - val_accuracy: 0.8163\n",
            "Epoch 34/60\n",
            "127/127 [==============================] - 47s 370ms/step - loss: 0.3265 - accuracy: 0.8502 - val_loss: 0.4069 - val_accuracy: 0.8122\n",
            "Epoch 35/60\n",
            "127/127 [==============================] - 47s 369ms/step - loss: 0.3290 - accuracy: 0.8458 - val_loss: 0.4319 - val_accuracy: 0.8191\n",
            "Epoch 36/60\n",
            "127/127 [==============================] - 47s 369ms/step - loss: 0.3222 - accuracy: 0.8561 - val_loss: 0.4278 - val_accuracy: 0.8218\n",
            "Epoch 37/60\n",
            "127/127 [==============================] - 47s 371ms/step - loss: 0.3224 - accuracy: 0.8551 - val_loss: 0.3903 - val_accuracy: 0.8329\n",
            "Epoch 38/60\n",
            "127/127 [==============================] - 47s 369ms/step - loss: 0.3176 - accuracy: 0.8514 - val_loss: 0.4099 - val_accuracy: 0.8218\n",
            "Epoch 39/60\n",
            "127/127 [==============================] - 47s 372ms/step - loss: 0.3270 - accuracy: 0.8504 - val_loss: 0.4089 - val_accuracy: 0.8191\n",
            "Epoch 40/60\n",
            "127/127 [==============================] - 48s 376ms/step - loss: 0.3142 - accuracy: 0.8591 - val_loss: 0.3824 - val_accuracy: 0.8439\n",
            "Epoch 41/60\n",
            "127/127 [==============================] - 48s 377ms/step - loss: 0.3094 - accuracy: 0.8581 - val_loss: 0.4156 - val_accuracy: 0.8149\n",
            "Epoch 42/60\n",
            "127/127 [==============================] - 48s 377ms/step - loss: 0.3109 - accuracy: 0.8588 - val_loss: 0.4008 - val_accuracy: 0.8232\n",
            "Epoch 43/60\n",
            "127/127 [==============================] - 49s 386ms/step - loss: 0.3069 - accuracy: 0.8608 - val_loss: 0.4448 - val_accuracy: 0.8122\n",
            "Epoch 44/60\n",
            "127/127 [==============================] - 48s 375ms/step - loss: 0.3169 - accuracy: 0.8532 - val_loss: 0.4415 - val_accuracy: 0.8204\n",
            "Epoch 45/60\n",
            "127/127 [==============================] - 48s 374ms/step - loss: 0.3075 - accuracy: 0.8578 - val_loss: 0.3727 - val_accuracy: 0.8494\n",
            "Epoch 46/60\n",
            "127/127 [==============================] - 48s 378ms/step - loss: 0.2987 - accuracy: 0.8655 - val_loss: 0.4809 - val_accuracy: 0.8094\n",
            "Epoch 47/60\n",
            "127/127 [==============================] - 48s 375ms/step - loss: 0.3047 - accuracy: 0.8569 - val_loss: 0.4027 - val_accuracy: 0.8329\n",
            "Epoch 48/60\n",
            "127/127 [==============================] - 47s 372ms/step - loss: 0.2975 - accuracy: 0.8635 - val_loss: 0.4151 - val_accuracy: 0.8384\n",
            "Epoch 49/60\n",
            "127/127 [==============================] - 48s 375ms/step - loss: 0.2872 - accuracy: 0.8709 - val_loss: 0.4187 - val_accuracy: 0.8246\n",
            "Epoch 50/60\n",
            "127/127 [==============================] - 48s 375ms/step - loss: 0.2905 - accuracy: 0.8699 - val_loss: 0.3898 - val_accuracy: 0.8356\n",
            "Epoch 51/60\n",
            "127/127 [==============================] - 47s 371ms/step - loss: 0.2835 - accuracy: 0.8746 - val_loss: 0.4550 - val_accuracy: 0.8163\n",
            "Epoch 52/60\n",
            "127/127 [==============================] - 47s 373ms/step - loss: 0.2854 - accuracy: 0.8699 - val_loss: 0.4228 - val_accuracy: 0.8315\n",
            "Epoch 53/60\n",
            "127/127 [==============================] - 48s 374ms/step - loss: 0.2853 - accuracy: 0.8692 - val_loss: 0.3948 - val_accuracy: 0.8287\n",
            "Epoch 54/60\n",
            "127/127 [==============================] - 48s 376ms/step - loss: 0.2825 - accuracy: 0.8717 - val_loss: 0.3773 - val_accuracy: 0.8384\n",
            "Epoch 55/60\n",
            "127/127 [==============================] - 48s 380ms/step - loss: 0.2815 - accuracy: 0.8769 - val_loss: 0.3989 - val_accuracy: 0.8384\n",
            "Epoch 56/60\n",
            "127/127 [==============================] - 49s 384ms/step - loss: 0.2723 - accuracy: 0.8781 - val_loss: 0.4276 - val_accuracy: 0.8315\n",
            "Epoch 57/60\n",
            "127/127 [==============================] - 49s 389ms/step - loss: 0.2614 - accuracy: 0.8909 - val_loss: 0.4100 - val_accuracy: 0.8204\n",
            "Epoch 58/60\n",
            "127/127 [==============================] - 52s 409ms/step - loss: 0.2679 - accuracy: 0.8776 - val_loss: 0.4212 - val_accuracy: 0.8218\n",
            "Epoch 59/60\n",
            "127/127 [==============================] - 49s 382ms/step - loss: 0.2572 - accuracy: 0.8889 - val_loss: 0.4186 - val_accuracy: 0.8384\n",
            "Epoch 60/60\n",
            "127/127 [==============================] - 47s 370ms/step - loss: 0.2618 - accuracy: 0.8850 - val_loss: 0.4102 - val_accuracy: 0.8467\n"
          ],
          "name": "stdout"
        }
      ]
    },
    {
      "cell_type": "markdown",
      "metadata": {
        "id": "Cps76s0pgjXq",
        "colab_type": "text"
      },
      "source": [
        "**The same proccess but with the testing Images**"
      ]
    },
    {
      "cell_type": "markdown",
      "metadata": {
        "id": "xvVCIOwOhYbx",
        "colab_type": "text"
      },
      "source": [
        "Save the model and the weights of the trained model"
      ]
    },
    {
      "cell_type": "code",
      "metadata": {
        "id": "iBuVnvsIn9cR",
        "colab_type": "code",
        "colab": {}
      },
      "source": [
        "cnn.save('/content/drive/My Drive/modelo2/model3.h5')\n",
        "cnn.save_weights('/content/drive/My Drive/modelo2/pesos3.h5')"
      ],
      "execution_count": null,
      "outputs": []
    },
    {
      "cell_type": "code",
      "metadata": {
        "id": "JQxHitLMHDFB",
        "colab_type": "code",
        "colab": {}
      },
      "source": [
        "data_test = '/content/drive/My Drive/Skin Cancer/data/real_test'"
      ],
      "execution_count": null,
      "outputs": []
    },
    {
      "cell_type": "code",
      "metadata": {
        "id": "ZotnJEx6cHdq",
        "colab_type": "code",
        "colab": {
          "base_uri": "https://localhost:8080/",
          "height": 34
        },
        "outputId": "7dde6d88-ff4b-4555-c77f-7c536aa48d23"
      },
      "source": [
        "# Transformo las imágenes de prueba\n",
        "testing_datagen = ImageDataGenerator(\n",
        "    rescale=1./255,\n",
        "    shear_range = 0.3, # Inclina las imágenes\n",
        "    zoom_range = 0.3, # Añade zoom a las imágenes\n",
        "    horizontal_flip = True # Invierte las imágenes, direccionalidad\n",
        ")\n",
        "\n",
        "imagen_test = testing_datagen.flow_from_directory(\n",
        "    data_test,\n",
        "    target_size=(altura, longitud),\n",
        "    batch_size = batch_size,\n",
        "    class_mode = 'categorical'\n",
        ")\n",
        "\n",
        "test_labels = imagen_test.classes"
      ],
      "execution_count": null,
      "outputs": [
        {
          "output_type": "stream",
          "text": [
            "Found 146 images belonging to 2 classes.\n"
          ],
          "name": "stdout"
        }
      ]
    },
    {
      "cell_type": "markdown",
      "metadata": {
        "id": "kbKVfmnVgtTD",
        "colab_type": "text"
      },
      "source": [
        "**Define function which will be use later**"
      ]
    },
    {
      "cell_type": "code",
      "metadata": {
        "id": "9jvbScWMcMl2",
        "colab_type": "code",
        "colab": {}
      },
      "source": [
        "def plot_training_curves(history):\n",
        "    acc = history.history['accuracy']\n",
        "    val_acc = history.history['val_accuracy']\n",
        "    loss = history.history['loss']\n",
        "    val_loss = history.history['val_loss']\n",
        "    \n",
        "    epochs = range(1, len(acc) + 1)\n",
        "    \n",
        "    plt.plot(epochs, loss, 'r', label='Training loss')\n",
        "    plt.plot(epochs, val_loss, 'g', label='Validation loss')\n",
        "    plt.title('Training and validation loss')\n",
        "    plt.legend()\n",
        "    plt.figure()\n",
        "    \n",
        "    plt.plot(epochs, acc, 'r', label='Training acc')\n",
        "    plt.plot(epochs, val_acc, 'g', label='Validation acc')\n",
        "    plt.title('Training and validation accuracy')\n",
        "    plt.legend()\n",
        "    plt.figure()\n",
        "    \n",
        "    plt.show()"
      ],
      "execution_count": null,
      "outputs": []
    },
    {
      "cell_type": "markdown",
      "metadata": {
        "id": "PlOWPKTRg2LN",
        "colab_type": "text"
      },
      "source": [
        "**Plot the training curves**"
      ]
    },
    {
      "cell_type": "code",
      "metadata": {
        "id": "4rdMkKOkcWhi",
        "colab_type": "code",
        "colab": {
          "base_uri": "https://localhost:8080/",
          "height": 562
        },
        "outputId": "e079980b-de45-4219-fb60-46997b8f1f10"
      },
      "source": [
        "plot_training_curves(history)"
      ],
      "execution_count": null,
      "outputs": [
        {
          "output_type": "display_data",
          "data": {
            "image/png": "[encoded data removed]",
            "text/plain": [
              "<Figure size 432x288 with 1 Axes>"
            ]
          },
          "metadata": {
            "tags": [],
            "needs_background": "light"
          }
        },
        {
          "output_type": "display_data",
          "data": {
            "image/png": "[encoded data removed]",
            "text/plain": [
              "<Figure size 432x288 with 1 Axes>"
            ]
          },
          "metadata": {
            "tags": [],
            "needs_background": "light"
          }
        },
        {
          "output_type": "display_data",
          "data": {
            "text/plain": [
              "<Figure size 432x288 with 0 Axes>"
            ]
          },
          "metadata": {
            "tags": []
          }
        }
      ]
    },
    {
      "cell_type": "code",
      "metadata": {
        "id": "IgbiBcYGa3cv",
        "colab_type": "code",
        "colab": {}
      },
      "source": [
        ""
      ],
      "execution_count": null,
      "outputs": []
    }
  ]
}