{
  "nbformat": 4,
  "nbformat_minor": 0,
  "metadata": {
    "colab": {
      "name": "Skin_Cancer.ipynb",
      "provenance": [],
      "collapsed_sections": [],
      "authorship_tag": "ABX9TyMCsk5sPHag1F7n9BNVp942",
      "include_colab_link": true
    },
    "kernelspec": {
      "name": "python3",
      "display_name": "Python 3"
    },
    "accelerator": "GPU"
  },
  "cells": [
    {
      "cell_type": "markdown",
      "metadata": {
        "id": "view-in-github",
        "colab_type": "text"
      },
      "source": [
        "<a href=\"https://colab.research.google.com/github/DavidMartinez16/Skin-Cancer-CNN/blob/master/Skin_Cancer.ipynb\" target=\"_parent\"><img src=\"https://colab.research.google.com/assets/colab-badge.svg\" alt=\"Open In Colab\"/></a>"
      ]
    },
    {
      "cell_type": "markdown",
      "metadata": {
        "id": "GHlxwG-GhMDa",
        "colab_type": "text"
      },
      "source": [
        "**Convolutional Neural Network Using Transfer Learning**"
      ]
    },
    {
      "cell_type": "markdown",
      "metadata": {
        "id": "R18UeY8NhhkP",
        "colab_type": "text"
      },
      "source": [
        "Import libraries"
      ]
    },
    {
      "cell_type": "code",
      "metadata": {
        "id": "MAQej5JFemlf",
        "colab_type": "code",
        "colab": {}
      },
      "source": [
        "import sys\n",
        "import os\n",
        "from tensorflow.keras.preprocessing.image import ImageDataGenerator\n",
        "from tensorflow.keras import optimizers\n",
        "from tensorflow.keras.models import Sequential\n",
        "from tensorflow.keras.layers import Dropout, Flatten, Dense, Activation\n",
        "from tensorflow.keras.layers import Convolution2D, MaxPooling2D\n",
        "from tensorflow.keras.callbacks import ReduceLROnPlateau\n",
        "from tensorflow.keras import backend as K\n",
        "from tensorflow.keras import applications\n",
        "from sklearn.metrics import confusion_matrix\n",
        "from tensorflow.keras import backend as K\n",
        "import matplotlib.pyplot as plt\n",
        "import itertools\n",
        "import numpy as np"
      ],
      "execution_count": null,
      "outputs": []
    },
    {
      "cell_type": "markdown",
      "metadata": {
        "id": "wO-KZg2MhlGg",
        "colab_type": "text"
      },
      "source": [
        "Define some functions which will be use later"
      ]
    },
    {
      "cell_type": "code",
      "metadata": {
        "id": "Af1VVktteofl",
        "colab_type": "code",
        "colab": {}
      },
      "source": [
        "# Función para la nueva red\n",
        "def modelo(clases):\n",
        "    vgg = applications.vgg16.VGG16()\n",
        "    cnn = Sequential()\n",
        "    for capa in vgg.layers:\n",
        "        cnn.add(capa)\n",
        "    cnn.pop()\n",
        "    for layer in cnn.layers:\n",
        "        layer.trainable = False \n",
        "    cnn.add(Dense(clases, activation='softmax'))\n",
        "\n",
        "    return cnn"
      ],
      "execution_count": null,
      "outputs": []
    },
    {
      "cell_type": "code",
      "metadata": {
        "id": "TYMPGk19es6r",
        "colab_type": "code",
        "colab": {}
      },
      "source": [
        "def plot_confusion_matrix(cm, classes, normalize = False, title = 'Confusion matrix', cmap = plt.cm.Blues):\n",
        "    if normalize:\n",
        "        cm = cm.astype('float') / cm.sum(axis=1)[:, np.newaxis]\n",
        "        print(\"Normalized confusion matrix\")\n",
        "    else:\n",
        "        print('Confusion matrix, without normalization')\n",
        "\n",
        "    print(cm)\n",
        "\n",
        "    plt.imshow(cm, interpolation='nearest', cmap=cmap)\n",
        "    plt.title(title)\n",
        "    plt.colorbar()\n",
        "    tick_marks = np.arange(len(classes))\n",
        "    plt.xticks(tick_marks, classes, rotation=45)\n",
        "    plt.yticks(tick_marks, classes)\n",
        "\n",
        "    fmt = '.2f' if normalize else 'd'\n",
        "    thresh = cm.max() / 2.\n",
        "    for i, j in itertools.product(range(cm.shape[0]), range(cm.shape[1])):\n",
        "        plt.text(j, i, format(cm[i, j], fmt),\n",
        "                 horizontalalignment=\"center\",\n",
        "                 color=\"white\" if cm[i, j] > thresh else \"black\")\n",
        "\n",
        "    plt.ylabel('True label')\n",
        "    plt.xlabel('Predicted label')\n",
        "    plt.tight_layout()\n",
        "\n",
        "def plot_training_curves(history):\n",
        "    acc = history.history['accuracy']\n",
        "    val_acc = history.history['val_accuracy']\n",
        "    loss = history.history['loss']\n",
        "    val_loss = history.history['val_loss']\n",
        "    \n",
        "    epochs = range(1, len(acc) + 1)\n",
        "    \n",
        "    plt.plot(epochs, loss, 'r', label='Training loss')\n",
        "    plt.plot(epochs, val_loss, 'g', label='Validation loss')\n",
        "    plt.title('Training and validation loss')\n",
        "    plt.legend()\n",
        "    plt.figure()\n",
        "    \n",
        "    plt.plot(epochs, acc, 'r', label='Training acc')\n",
        "    plt.plot(epochs, val_acc, 'g', label='Validation acc')\n",
        "    plt.title('Training and validation accuracy')\n",
        "    plt.legend()\n",
        "    plt.figure()\n",
        "    \n",
        "    plt.show()\n",
        "\n",
        "def print_results(cm):\n",
        "    tp = cm[0, 0]\n",
        "    tn = cm[1, 1]\n",
        "    fn = cm[0, 1]\n",
        "    fp = cm[1, 0]\n",
        "    \n",
        "    acc = ((tp + tn) / (tp + tn + fp + fn)) * 100\n",
        "    \n",
        "    sen = (tp / (tp + fn)) * 100\n",
        "    \n",
        "    spe = (tn / ( tn + fp )) * 100\n",
        "    \n",
        "    print ('Accuracy: ',  acc)\n",
        "\n",
        "    print ('Sensitivity: ', sen)\n",
        "    \n",
        "    print ('Sensibility: ',  spe)"
      ],
      "execution_count": null,
      "outputs": []
    },
    {
      "cell_type": "code",
      "metadata": {
        "id": "k6VUJ_KAe9W4",
        "colab_type": "code",
        "colab": {
          "base_uri": "https://localhost:8080/",
          "height": 122
        },
        "outputId": "419cf818-35d5-458b-e828-6febc5a20a17"
      },
      "source": [
        "from google.colab import drive\n",
        "drive.mount('/content/drive')"
      ],
      "execution_count": null,
      "outputs": [
        {
          "output_type": "stream",
          "text": [
            "Go to this URL in a browser: https://accounts.google.com/o/oauth2/auth?client_id=947318989803-6bn6qk8qdgf4n4g3pfee6491hc0brc4i.apps.googleusercontent.com&redirect_uri=urn%3aietf%3awg%3aoauth%3a2.0%3aoob&scope=email%20https%3a%2f%2fwww.googleapis.com%2fauth%2fdocs.test%20https%3a%2f%2fwww.googleapis.com%2fauth%2fdrive%20https%3a%2f%2fwww.googleapis.com%2fauth%2fdrive.photos.readonly%20https%3a%2f%2fwww.googleapis.com%2fauth%2fpeopleapi.readonly&response_type=code\n",
            "\n",
            "Enter your authorization code:\n",
            "··········\n",
            "Mounted at /content/drive\n"
          ],
          "name": "stdout"
        }
      ]
    },
    {
      "cell_type": "markdown",
      "metadata": {
        "id": "VqkTAab0hpr_",
        "colab_type": "text"
      },
      "source": [
        "Define the path of the files"
      ]
    },
    {
      "cell_type": "code",
      "metadata": {
        "id": "Hv6SqxVbfSuc",
        "colab_type": "code",
        "colab": {}
      },
      "source": [
        "K.clear_session()\n",
        "\n",
        "data_train = '/content/drive/My Drive/Skin Cancer/data/train'\n",
        "data_validation = '/content/drive/My Drive/Skin Cancer/data/test'\n"
      ],
      "execution_count": null,
      "outputs": []
    },
    {
      "cell_type": "code",
      "metadata": {
        "id": "Sy1OXeeZfmTU",
        "colab_type": "code",
        "colab": {}
      },
      "source": [
        "epocas = 80\n",
        "altura, longitud = 224, 224 # Tamaño a procesar las imágenes\n",
        "batch_size = 32 # Número de imágenes a mandar en cada época\n",
        "pasos_epoca = 1000\n",
        "pasos_validacion = 20\n",
        "# Tamaños de los filtros\n",
        "filtrosConv1 = 32\n",
        "filtrosConv2 = 64\n",
        "tamano_filtro1 = (3,3)\n",
        "tamano_filtro2 = (2,2)\n",
        "tamano_pool = (2,2)\n",
        "clases = 2\n",
        "lr = 0.0005 "
      ],
      "execution_count": null,
      "outputs": []
    },
    {
      "cell_type": "code",
      "metadata": {
        "id": "il0So4_Vhsi9",
        "colab_type": "code",
        "colab": {
          "base_uri": "https://localhost:8080/",
          "height": 34
        },
        "outputId": "fdaf0cea-ec1a-4457-8b78-838ffc798151"
      },
      "source": [
        "len(data_train)/batch_size"
      ],
      "execution_count": null,
      "outputs": [
        {
          "output_type": "execute_result",
          "data": {
            "text/plain": [
              "1.4375"
            ]
          },
          "metadata": {
            "tags": []
          },
          "execution_count": 18
        }
      ]
    },
    {
      "cell_type": "markdown",
      "metadata": {
        "id": "BxZ5QkGfhtE3",
        "colab_type": "text"
      },
      "source": [
        "Generate sevaral images with different features"
      ]
    },
    {
      "cell_type": "code",
      "metadata": {
        "id": "cjo0d6cCfpJK",
        "colab_type": "code",
        "colab": {}
      },
      "source": [
        "entrenamiento_datagen = ImageDataGenerator(\n",
        "    rescale=1./255, # Reescalar valores de pixeles de 0 a 1\n",
        "    shear_range = 0.3, # Inclina las imágenes\n",
        "    zoom_range = 0.3, # Añade zoom a las imágenes\n",
        "    horizontal_flip = True # Invierte las imágenes, direccionalidad\n",
        ")\n",
        "\n",
        "validacion_datagen = ImageDataGenerator(\n",
        "    rescale=1./255,\n",
        ")"
      ],
      "execution_count": null,
      "outputs": []
    },
    {
      "cell_type": "markdown",
      "metadata": {
        "id": "YOzQOgbYhwAP",
        "colab_type": "text"
      },
      "source": [
        "\n",
        "Access to the path and transform each image in the folder"
      ]
    },
    {
      "cell_type": "code",
      "metadata": {
        "id": "kxNR7wP4fvUR",
        "colab_type": "code",
        "colab": {
          "base_uri": "https://localhost:8080/",
          "height": 51
        },
        "outputId": "58d2efdd-4056-4db4-f696-b00bd3fa7962"
      },
      "source": [
        "# Entra al directoria de training\n",
        "imagen_train = entrenamiento_datagen.flow_from_directory(\n",
        "    data_train,\n",
        "    target_size= (altura, longitud),\n",
        "    batch_size = batch_size,\n",
        "    class_mode = 'categorical'\n",
        ")\n",
        "\n",
        "imagen_validation = validacion_datagen.flow_from_directory(\n",
        "    data_validation,\n",
        "    target_size= (altura, longitud),\n",
        "    batch_size = batch_size,\n",
        "    class_mode = 'categorical'\n",
        ")"
      ],
      "execution_count": null,
      "outputs": [
        {
          "output_type": "stream",
          "text": [
            "Found 4084 images belonging to 2 classes.\n",
            "Found 724 images belonging to 2 classes.\n"
          ],
          "name": "stdout"
        }
      ]
    },
    {
      "cell_type": "markdown",
      "metadata": {
        "id": "tgYyJePuhyny",
        "colab_type": "text"
      },
      "source": [
        "Create the Neural Network"
      ]
    },
    {
      "cell_type": "code",
      "metadata": {
        "id": "U5N6WVX8fx3C",
        "colab_type": "code",
        "colab": {
          "base_uri": "https://localhost:8080/",
          "height": 51
        },
        "outputId": "90924d5b-91b4-4567-d7f9-90b4970bc6d3"
      },
      "source": [
        "cnn = modelo(2)\n",
        "cnn.compile(loss='categorical_crossentropy', optimizer=optimizers.Adam(lr=lr),\n",
        "            metrics =['accuracy'])\n",
        "learning_rate_reduction = ReduceLROnPlateau(monitor='val_loss', \n",
        "                                            patience=5, \n",
        "                                            verbose=1, \n",
        "                                            factor=0.5, \n",
        "                                            min_lr=1e-7) \n"
      ],
      "execution_count": null,
      "outputs": [
        {
          "output_type": "stream",
          "text": [
            "Downloading data from https://storage.googleapis.com/tensorflow/keras-applications/vgg16/vgg16_weights_tf_dim_ordering_tf_kernels.h5\n",
            "553467904/553467096 [==============================] - 17s 0us/step\n"
          ],
          "name": "stdout"
        }
      ]
    },
    {
      "cell_type": "markdown",
      "metadata": {
        "id": "i3cOds0vh2xv",
        "colab_type": "text"
      },
      "source": [
        "Structure of the Neural Network"
      ]
    },
    {
      "cell_type": "code",
      "metadata": {
        "id": "9TQwXfEuyBF7",
        "colab_type": "code",
        "colab": {
          "base_uri": "https://localhost:8080/",
          "height": 901
        },
        "outputId": "123ad384-e6c9-4c14-a6c9-827102eff142"
      },
      "source": [
        "cnn.summary()"
      ],
      "execution_count": null,
      "outputs": [
        {
          "output_type": "stream",
          "text": [
            "Model: \"sequential\"\n",
            "_________________________________________________________________\n",
            "Layer (type)                 Output Shape              Param #   \n",
            "=================================================================\n",
            "block1_conv1 (Conv2D)        (None, 224, 224, 64)      1792      \n",
            "_________________________________________________________________\n",
            "block1_conv2 (Conv2D)        (None, 224, 224, 64)      36928     \n",
            "_________________________________________________________________\n",
            "block1_pool (MaxPooling2D)   (None, 112, 112, 64)      0         \n",
            "_________________________________________________________________\n",
            "block2_conv1 (Conv2D)        (None, 112, 112, 128)     73856     \n",
            "_________________________________________________________________\n",
            "block2_conv2 (Conv2D)        (None, 112, 112, 128)     147584    \n",
            "_________________________________________________________________\n",
            "block2_pool (MaxPooling2D)   (None, 56, 56, 128)       0         \n",
            "_________________________________________________________________\n",
            "block3_conv1 (Conv2D)        (None, 56, 56, 256)       295168    \n",
            "_________________________________________________________________\n",
            "block3_conv2 (Conv2D)        (None, 56, 56, 256)       590080    \n",
            "_________________________________________________________________\n",
            "block3_conv3 (Conv2D)        (None, 56, 56, 256)       590080    \n",
            "_________________________________________________________________\n",
            "block3_pool (MaxPooling2D)   (None, 28, 28, 256)       0         \n",
            "_________________________________________________________________\n",
            "block4_conv1 (Conv2D)        (None, 28, 28, 512)       1180160   \n",
            "_________________________________________________________________\n",
            "block4_conv2 (Conv2D)        (None, 28, 28, 512)       2359808   \n",
            "_________________________________________________________________\n",
            "block4_conv3 (Conv2D)        (None, 28, 28, 512)       2359808   \n",
            "_________________________________________________________________\n",
            "block4_pool (MaxPooling2D)   (None, 14, 14, 512)       0         \n",
            "_________________________________________________________________\n",
            "block5_conv1 (Conv2D)        (None, 14, 14, 512)       2359808   \n",
            "_________________________________________________________________\n",
            "block5_conv2 (Conv2D)        (None, 14, 14, 512)       2359808   \n",
            "_________________________________________________________________\n",
            "block5_conv3 (Conv2D)        (None, 14, 14, 512)       2359808   \n",
            "_________________________________________________________________\n",
            "block5_pool (MaxPooling2D)   (None, 7, 7, 512)         0         \n",
            "_________________________________________________________________\n",
            "flatten (Flatten)            (None, 25088)             0         \n",
            "_________________________________________________________________\n",
            "fc1 (Dense)                  (None, 4096)              102764544 \n",
            "_________________________________________________________________\n",
            "fc2 (Dense)                  (None, 4096)              16781312  \n",
            "_________________________________________________________________\n",
            "dense (Dense)                (None, 2)                 8194      \n",
            "=================================================================\n",
            "Total params: 134,268,738\n",
            "Trainable params: 8,194\n",
            "Non-trainable params: 134,260,544\n",
            "_________________________________________________________________\n"
          ],
          "name": "stdout"
        }
      ]
    },
    {
      "cell_type": "markdown",
      "metadata": {
        "id": "x36CaUaeh8DB",
        "colab_type": "text"
      },
      "source": [
        "Fit"
      ]
    },
    {
      "cell_type": "code",
      "metadata": {
        "id": "QVtpODRAgXhq",
        "colab_type": "code",
        "colab": {
          "base_uri": "https://localhost:8080/",
          "height": 1000
        },
        "outputId": "ca244c76-5263-4deb-8438-644cc123e120"
      },
      "source": [
        "history =cnn.fit(imagen_train, steps_per_epoch=(4084/batch_size), epochs=epocas, validation_data = imagen_validation, \n",
        "                 validation_steps = (724/batch_size))"
      ],
      "execution_count": null,
      "outputs": [
        {
          "output_type": "stream",
          "text": [
            "Epoch 1/80\n",
            "128/127 [==============================] - 3133s 24s/step - loss: 0.6370 - accuracy: 0.6330 - val_loss: 0.6030 - val_accuracy: 0.7044\n",
            "Epoch 2/80\n",
            "128/127 [==============================] - 84s 658ms/step - loss: 0.5685 - accuracy: 0.7179 - val_loss: 0.4932 - val_accuracy: 0.7597\n",
            "Epoch 3/80\n",
            "128/127 [==============================] - 82s 638ms/step - loss: 0.5559 - accuracy: 0.7226 - val_loss: 0.5327 - val_accuracy: 0.7555\n",
            "Epoch 4/80\n",
            "128/127 [==============================] - 80s 625ms/step - loss: 0.5388 - accuracy: 0.7395 - val_loss: 0.4980 - val_accuracy: 0.7707\n",
            "Epoch 5/80\n",
            "128/127 [==============================] - 80s 623ms/step - loss: 0.5301 - accuracy: 0.7468 - val_loss: 0.4929 - val_accuracy: 0.7818\n",
            "Epoch 6/80\n",
            "128/127 [==============================] - 79s 616ms/step - loss: 0.5350 - accuracy: 0.7390 - val_loss: 0.4990 - val_accuracy: 0.7831\n",
            "Epoch 7/80\n",
            "128/127 [==============================] - 79s 615ms/step - loss: 0.5057 - accuracy: 0.7620 - val_loss: 0.4935 - val_accuracy: 0.7873\n",
            "Epoch 8/80\n",
            "128/127 [==============================] - 79s 617ms/step - loss: 0.5040 - accuracy: 0.7564 - val_loss: 0.4580 - val_accuracy: 0.7887\n",
            "Epoch 9/80\n",
            "128/127 [==============================] - 79s 615ms/step - loss: 0.5201 - accuracy: 0.7500 - val_loss: 0.4511 - val_accuracy: 0.7997\n",
            "Epoch 10/80\n",
            "128/127 [==============================] - 79s 615ms/step - loss: 0.5078 - accuracy: 0.7581 - val_loss: 0.4554 - val_accuracy: 0.7652\n",
            "Epoch 11/80\n",
            "128/127 [==============================] - 79s 615ms/step - loss: 0.4956 - accuracy: 0.7627 - val_loss: 0.4458 - val_accuracy: 0.8052\n",
            "Epoch 12/80\n",
            "128/127 [==============================] - 79s 615ms/step - loss: 0.4962 - accuracy: 0.7662 - val_loss: 0.4454 - val_accuracy: 0.7970\n",
            "Epoch 13/80\n",
            "128/127 [==============================] - 79s 614ms/step - loss: 0.4911 - accuracy: 0.7664 - val_loss: 0.4478 - val_accuracy: 0.7970\n",
            "Epoch 14/80\n",
            "128/127 [==============================] - 78s 611ms/step - loss: 0.4898 - accuracy: 0.7640 - val_loss: 0.4586 - val_accuracy: 0.7555\n",
            "Epoch 15/80\n",
            "128/127 [==============================] - 79s 615ms/step - loss: 0.4995 - accuracy: 0.7610 - val_loss: 0.4466 - val_accuracy: 0.8039\n",
            "Epoch 16/80\n",
            "128/127 [==============================] - 79s 617ms/step - loss: 0.5101 - accuracy: 0.7551 - val_loss: 0.5484 - val_accuracy: 0.7597\n",
            "Epoch 17/80\n",
            "128/127 [==============================] - 78s 613ms/step - loss: 0.4810 - accuracy: 0.7696 - val_loss: 0.5572 - val_accuracy: 0.7555\n",
            "Epoch 18/80\n",
            "128/127 [==============================] - 78s 613ms/step - loss: 0.4818 - accuracy: 0.7708 - val_loss: 0.4363 - val_accuracy: 0.7997\n",
            "Epoch 19/80\n",
            "128/127 [==============================] - 79s 614ms/step - loss: 0.4874 - accuracy: 0.7662 - val_loss: 0.4791 - val_accuracy: 0.7901\n",
            "Epoch 20/80\n",
            "128/127 [==============================] - 79s 617ms/step - loss: 0.4662 - accuracy: 0.7791 - val_loss: 0.4412 - val_accuracy: 0.7928\n",
            "Epoch 21/80\n",
            "128/127 [==============================] - 78s 612ms/step - loss: 0.4789 - accuracy: 0.7757 - val_loss: 0.4368 - val_accuracy: 0.8039\n",
            "Epoch 22/80\n",
            "128/127 [==============================] - 78s 612ms/step - loss: 0.4815 - accuracy: 0.7664 - val_loss: 0.4485 - val_accuracy: 0.8066\n",
            "Epoch 23/80\n",
            "128/127 [==============================] - 78s 612ms/step - loss: 0.4856 - accuracy: 0.7649 - val_loss: 0.4481 - val_accuracy: 0.8080\n",
            "Epoch 24/80\n",
            "128/127 [==============================] - 79s 619ms/step - loss: 0.4711 - accuracy: 0.7774 - val_loss: 0.4337 - val_accuracy: 0.7942\n",
            "Epoch 25/80\n",
            "128/127 [==============================] - 78s 612ms/step - loss: 0.4712 - accuracy: 0.7760 - val_loss: 0.4370 - val_accuracy: 0.8011\n",
            "Epoch 26/80\n",
            "128/127 [==============================] - 78s 612ms/step - loss: 0.4743 - accuracy: 0.7681 - val_loss: 0.4410 - val_accuracy: 0.7831\n",
            "Epoch 27/80\n",
            "128/127 [==============================] - 78s 612ms/step - loss: 0.4862 - accuracy: 0.7720 - val_loss: 0.4635 - val_accuracy: 0.7541\n",
            "Epoch 28/80\n",
            "128/127 [==============================] - 79s 614ms/step - loss: 0.4889 - accuracy: 0.7664 - val_loss: 0.5039 - val_accuracy: 0.7224\n",
            "Epoch 29/80\n",
            "128/127 [==============================] - 78s 611ms/step - loss: 0.4732 - accuracy: 0.7777 - val_loss: 0.4489 - val_accuracy: 0.8066\n",
            "Epoch 30/80\n",
            "128/127 [==============================] - 78s 608ms/step - loss: 0.4715 - accuracy: 0.7755 - val_loss: 0.4346 - val_accuracy: 0.7983\n",
            "Epoch 31/80\n",
            "128/127 [==============================] - 78s 607ms/step - loss: 0.4719 - accuracy: 0.7693 - val_loss: 0.4265 - val_accuracy: 0.8052\n",
            "Epoch 32/80\n",
            "128/127 [==============================] - 78s 611ms/step - loss: 0.4609 - accuracy: 0.7828 - val_loss: 0.4591 - val_accuracy: 0.8011\n",
            "Epoch 33/80\n",
            "128/127 [==============================] - 77s 605ms/step - loss: 0.4610 - accuracy: 0.7818 - val_loss: 0.4350 - val_accuracy: 0.8066\n",
            "Epoch 34/80\n",
            "128/127 [==============================] - 78s 609ms/step - loss: 0.4616 - accuracy: 0.7833 - val_loss: 0.4357 - val_accuracy: 0.8011\n",
            "Epoch 35/80\n",
            "128/127 [==============================] - 78s 610ms/step - loss: 0.4704 - accuracy: 0.7789 - val_loss: 0.5099 - val_accuracy: 0.7901\n",
            "Epoch 36/80\n",
            "128/127 [==============================] - 78s 611ms/step - loss: 0.4642 - accuracy: 0.7801 - val_loss: 0.4236 - val_accuracy: 0.8066\n",
            "Epoch 37/80\n",
            "128/127 [==============================] - 78s 611ms/step - loss: 0.4818 - accuracy: 0.7637 - val_loss: 0.5176 - val_accuracy: 0.7210\n",
            "Epoch 38/80\n",
            "128/127 [==============================] - 78s 611ms/step - loss: 0.4559 - accuracy: 0.7843 - val_loss: 0.4246 - val_accuracy: 0.8108\n",
            "Epoch 39/80\n",
            "128/127 [==============================] - 78s 611ms/step - loss: 0.4691 - accuracy: 0.7786 - val_loss: 0.4390 - val_accuracy: 0.8108\n",
            "Epoch 40/80\n",
            "128/127 [==============================] - 78s 611ms/step - loss: 0.4590 - accuracy: 0.7894 - val_loss: 0.4309 - val_accuracy: 0.7942\n",
            "Epoch 41/80\n",
            "128/127 [==============================] - 78s 608ms/step - loss: 0.4652 - accuracy: 0.7784 - val_loss: 0.4251 - val_accuracy: 0.8094\n",
            "Epoch 42/80\n",
            "128/127 [==============================] - 78s 608ms/step - loss: 0.4616 - accuracy: 0.7806 - val_loss: 0.4447 - val_accuracy: 0.8039\n",
            "Epoch 43/80\n",
            "128/127 [==============================] - 78s 612ms/step - loss: 0.4515 - accuracy: 0.7828 - val_loss: 0.4281 - val_accuracy: 0.8094\n",
            "Epoch 44/80\n",
            "128/127 [==============================] - 79s 614ms/step - loss: 0.4719 - accuracy: 0.7725 - val_loss: 0.4532 - val_accuracy: 0.7970\n",
            "Epoch 45/80\n",
            "128/127 [==============================] - 79s 614ms/step - loss: 0.4530 - accuracy: 0.7875 - val_loss: 0.4763 - val_accuracy: 0.7500\n",
            "Epoch 46/80\n",
            "128/127 [==============================] - 79s 615ms/step - loss: 0.4537 - accuracy: 0.7870 - val_loss: 0.4449 - val_accuracy: 0.7873\n",
            "Epoch 47/80\n",
            "128/127 [==============================] - 79s 616ms/step - loss: 0.4588 - accuracy: 0.7769 - val_loss: 0.4398 - val_accuracy: 0.8039\n",
            "Epoch 48/80\n",
            "128/127 [==============================] - 79s 617ms/step - loss: 0.4663 - accuracy: 0.7728 - val_loss: 0.4272 - val_accuracy: 0.8039\n",
            "Epoch 49/80\n",
            "128/127 [==============================] - 78s 613ms/step - loss: 0.4725 - accuracy: 0.7742 - val_loss: 0.4592 - val_accuracy: 0.7970\n",
            "Epoch 50/80\n",
            "128/127 [==============================] - 79s 616ms/step - loss: 0.4596 - accuracy: 0.7835 - val_loss: 0.4245 - val_accuracy: 0.8039\n",
            "Epoch 51/80\n",
            "128/127 [==============================] - 79s 616ms/step - loss: 0.4608 - accuracy: 0.7835 - val_loss: 0.4377 - val_accuracy: 0.8011\n",
            "Epoch 52/80\n",
            "128/127 [==============================] - 78s 612ms/step - loss: 0.4575 - accuracy: 0.7826 - val_loss: 0.4387 - val_accuracy: 0.7997\n",
            "Epoch 53/80\n",
            "128/127 [==============================] - 78s 609ms/step - loss: 0.4545 - accuracy: 0.7826 - val_loss: 0.4243 - val_accuracy: 0.8080\n",
            "Epoch 54/80\n",
            "128/127 [==============================] - 78s 610ms/step - loss: 0.4436 - accuracy: 0.7936 - val_loss: 0.4271 - val_accuracy: 0.8080\n",
            "Epoch 55/80\n",
            "128/127 [==============================] - 78s 611ms/step - loss: 0.4393 - accuracy: 0.7946 - val_loss: 0.4297 - val_accuracy: 0.8039\n",
            "Epoch 56/80\n",
            "128/127 [==============================] - 78s 612ms/step - loss: 0.4480 - accuracy: 0.7853 - val_loss: 0.4302 - val_accuracy: 0.8039\n",
            "Epoch 57/80\n",
            "128/127 [==============================] - 78s 607ms/step - loss: 0.4549 - accuracy: 0.7840 - val_loss: 0.4274 - val_accuracy: 0.8094\n",
            "Epoch 58/80\n",
            "128/127 [==============================] - 78s 607ms/step - loss: 0.4535 - accuracy: 0.7857 - val_loss: 0.5025 - val_accuracy: 0.7942\n",
            "Epoch 59/80\n",
            "128/127 [==============================] - 78s 606ms/step - loss: 0.4407 - accuracy: 0.7909 - val_loss: 0.4265 - val_accuracy: 0.8122\n",
            "Epoch 60/80\n",
            "128/127 [==============================] - 78s 608ms/step - loss: 0.4585 - accuracy: 0.7806 - val_loss: 0.4428 - val_accuracy: 0.7983\n",
            "Epoch 61/80\n",
            "128/127 [==============================] - 77s 605ms/step - loss: 0.4404 - accuracy: 0.7921 - val_loss: 0.4253 - val_accuracy: 0.8080\n",
            "Epoch 62/80\n",
            "128/127 [==============================] - 77s 604ms/step - loss: 0.4711 - accuracy: 0.7745 - val_loss: 0.4265 - val_accuracy: 0.8108\n",
            "Epoch 63/80\n",
            "128/127 [==============================] - 78s 606ms/step - loss: 0.4420 - accuracy: 0.7946 - val_loss: 0.4453 - val_accuracy: 0.7956\n",
            "Epoch 64/80\n",
            "128/127 [==============================] - 78s 606ms/step - loss: 0.4479 - accuracy: 0.7892 - val_loss: 0.4300 - val_accuracy: 0.8094\n",
            "Epoch 65/80\n",
            "128/127 [==============================] - 77s 605ms/step - loss: 0.4433 - accuracy: 0.7860 - val_loss: 0.4328 - val_accuracy: 0.8039\n",
            "Epoch 66/80\n",
            "128/127 [==============================] - 79s 617ms/step - loss: 0.4439 - accuracy: 0.7887 - val_loss: 0.4279 - val_accuracy: 0.8052\n",
            "Epoch 67/80\n",
            "128/127 [==============================] - 78s 608ms/step - loss: 0.4491 - accuracy: 0.7973 - val_loss: 0.4371 - val_accuracy: 0.8025\n",
            "Epoch 68/80\n",
            "128/127 [==============================] - 78s 609ms/step - loss: 0.4481 - accuracy: 0.7919 - val_loss: 0.4239 - val_accuracy: 0.8052\n",
            "Epoch 69/80\n",
            "128/127 [==============================] - 78s 609ms/step - loss: 0.4385 - accuracy: 0.7924 - val_loss: 0.4507 - val_accuracy: 0.7983\n",
            "Epoch 70/80\n",
            "128/127 [==============================] - 78s 609ms/step - loss: 0.4461 - accuracy: 0.7887 - val_loss: 0.4347 - val_accuracy: 0.7970\n",
            "Epoch 71/80\n",
            "128/127 [==============================] - 78s 611ms/step - loss: 0.4571 - accuracy: 0.7818 - val_loss: 0.4461 - val_accuracy: 0.8011\n",
            "Epoch 72/80\n",
            "128/127 [==============================] - 78s 611ms/step - loss: 0.4366 - accuracy: 0.7941 - val_loss: 0.4314 - val_accuracy: 0.7970\n",
            "Epoch 73/80\n",
            "128/127 [==============================] - 78s 608ms/step - loss: 0.4594 - accuracy: 0.7777 - val_loss: 0.4240 - val_accuracy: 0.8149\n",
            "Epoch 74/80\n",
            "128/127 [==============================] - 78s 611ms/step - loss: 0.4407 - accuracy: 0.7880 - val_loss: 0.4293 - val_accuracy: 0.8052\n",
            "Epoch 75/80\n",
            "128/127 [==============================] - 78s 613ms/step - loss: 0.4373 - accuracy: 0.7897 - val_loss: 0.4307 - val_accuracy: 0.8080\n",
            "Epoch 76/80\n",
            "128/127 [==============================] - 78s 609ms/step - loss: 0.4327 - accuracy: 0.7982 - val_loss: 0.4259 - val_accuracy: 0.8066\n",
            "Epoch 77/80\n",
            "128/127 [==============================] - 78s 610ms/step - loss: 0.4359 - accuracy: 0.7899 - val_loss: 0.4518 - val_accuracy: 0.7970\n",
            "Epoch 78/80\n",
            "128/127 [==============================] - 78s 610ms/step - loss: 0.4364 - accuracy: 0.7977 - val_loss: 0.4235 - val_accuracy: 0.8135\n",
            "Epoch 79/80\n",
            "128/127 [==============================] - 78s 611ms/step - loss: 0.4427 - accuracy: 0.7889 - val_loss: 0.4248 - val_accuracy: 0.8149\n",
            "Epoch 80/80\n",
            "128/127 [==============================] - 78s 609ms/step - loss: 0.4315 - accuracy: 0.8009 - val_loss: 0.4265 - val_accuracy: 0.8094\n"
          ],
          "name": "stdout"
        }
      ]
    },
    {
      "cell_type": "markdown",
      "metadata": {
        "id": "7Tk29zJfh-WQ",
        "colab_type": "text"
      },
      "source": [
        "Plot the training curves"
      ]
    },
    {
      "cell_type": "code",
      "metadata": {
        "id": "xzQy7JfHgcgk",
        "colab_type": "code",
        "colab": {
          "base_uri": "https://localhost:8080/",
          "height": 562
        },
        "outputId": "edb3ac6c-97a4-449b-f488-929823028349"
      },
      "source": [
        "plot_training_curves(history)"
      ],
      "execution_count": null,
      "outputs": [
        {
          "output_type": "display_data",
          "data": {
            "image/png": "[encoded data removed]",
            "text/plain": [
              "<Figure size 432x288 with 1 Axes>"
            ]
          },
          "metadata": {
            "tags": [],
            "needs_background": "light"
          }
        },
        {
          "output_type": "display_data",
          "data": {
            "image/png": "[encoded data removed]",
            "text/plain": [
              "<Figure size 432x288 with 1 Axes>"
            ]
          },
          "metadata": {
            "tags": [],
            "needs_background": "light"
          }
        },
        {
          "output_type": "display_data",
          "data": {
            "text/plain": [
              "<Figure size 432x288 with 0 Axes>"
            ]
          },
          "metadata": {
            "tags": []
          }
        }
      ]
    },
    {
      "cell_type": "markdown",
      "metadata": {
        "id": "bOaZlLwbiDPs",
        "colab_type": "text"
      },
      "source": [
        "Testing the model with the test images"
      ]
    },
    {
      "cell_type": "code",
      "metadata": {
        "id": "nhw5XVf4mse-",
        "colab_type": "code",
        "colab": {}
      },
      "source": [
        "cnn.save('/content/drive/My Drive/modelo2/modelrl.h5')\n",
        "cnn.save_weights('/content/drive/My Drive/modelo2/pesosrl.h5')"
      ],
      "execution_count": null,
      "outputs": []
    },
    {
      "cell_type": "code",
      "metadata": {
        "id": "ujfzZgEXZ8k5",
        "colab_type": "code",
        "colab": {}
      },
      "source": [
        "data_test = '/content/drive/My Drive/Skin Cancer/data/real_test'"
      ],
      "execution_count": null,
      "outputs": []
    },
    {
      "cell_type": "code",
      "metadata": {
        "id": "dlE7CufuZ_kG",
        "colab_type": "code",
        "colab": {
          "base_uri": "https://localhost:8080/",
          "height": 34
        },
        "outputId": "782d7f2b-57df-4b46-82ca-e52c36c7c1b0"
      },
      "source": [
        "# Transformo las imágenes de prueba\n",
        "testing_datagen = ImageDataGenerator(\n",
        "    rescale=1./255,\n",
        "    shear_range = 0.3, # Inclina las imágenes\n",
        "    zoom_range = 0.3, # Añade zoom a las imágenes\n",
        "    horizontal_flip = True # Invierte las imágenes, direccionalidad\n",
        ")\n",
        "\n",
        "imagen_test = testing_datagen.flow_from_directory(\n",
        "    data_test,\n",
        "    target_size=(altura, longitud),\n",
        "    batch_size = batch_size,\n",
        "    class_mode = 'categorical'\n",
        ")\n",
        "\n",
        "test_labels = imagen_test.classes"
      ],
      "execution_count": null,
      "outputs": [
        {
          "output_type": "stream",
          "text": [
            "Found 146 images belonging to 2 classes.\n"
          ],
          "name": "stdout"
        }
      ]
    },
    {
      "cell_type": "code",
      "metadata": {
        "id": "153wWo_eaH2j",
        "colab_type": "code",
        "colab": {
          "base_uri": "https://localhost:8080/",
          "height": 139
        },
        "outputId": "43a06918-0e0d-48e2-b1d1-a822a6b628bb"
      },
      "source": [
        "predictions = cnn.predict_generator(imagen_test, verbose = 1)\n",
        "cm = confusion_matrix(test_labels, predictions.argmax(axis=1))\n",
        "cm"
      ],
      "execution_count": null,
      "outputs": [
        {
          "output_type": "stream",
          "text": [
            "WARNING:tensorflow:From <ipython-input-18-489177ecd763>:1: Model.predict_generator (from tensorflow.python.keras.engine.training) is deprecated and will be removed in a future version.\n",
            "Instructions for updating:\n",
            "Please use Model.predict, which supports generators.\n",
            "5/5 [==============================] - 86s 17s/step\n"
          ],
          "name": "stdout"
        },
        {
          "output_type": "execute_result",
          "data": {
            "text/plain": [
              "array([[36, 30],\n",
              "       [38, 42]])"
            ]
          },
          "metadata": {
            "tags": []
          },
          "execution_count": 18
        }
      ]
    },
    {
      "cell_type": "code",
      "metadata": {
        "id": "4pAgVvAca6e0",
        "colab_type": "code",
        "colab": {
          "base_uri": "https://localhost:8080/",
          "height": 68
        },
        "outputId": "1113103d-f49a-47e0-e043-5253cca5d560"
      },
      "source": [
        "print_results(cm)"
      ],
      "execution_count": null,
      "outputs": [
        {
          "output_type": "stream",
          "text": [
            "Accuracy:  53.42465753424658\n",
            "Sensitivity:  54.54545454545454\n",
            "Sensibility:  52.5\n"
          ],
          "name": "stdout"
        }
      ]
    },
    {
      "cell_type": "code",
      "metadata": {
        "id": "v9N1WAwla_SU",
        "colab_type": "code",
        "colab": {}
      },
      "source": [
        ""
      ],
      "execution_count": null,
      "outputs": []
    }
  ]
}